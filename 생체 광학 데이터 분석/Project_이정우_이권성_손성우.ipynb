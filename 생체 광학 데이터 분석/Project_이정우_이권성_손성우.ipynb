{
 "cells": [
  {
   "cell_type": "markdown",
   "metadata": {},
   "source": [
    "# 생체 광학 데이터 AI 분석 \n",
    "\n",
    "이권성, 손성우, 이정우\n",
    "\n",
    "## 1. 배경\n",
    " 빛을 응용한 뇌 내 성분 검사는 피부 상처 없이 다양한 성분 정보를 알 수 있습니다. 이는 뇌 활동 연구를 위해 신경영상을 얻을 수 있는 방법으로, 바늘(전극)을 찔러 넣는 방법인 뇌전도 검사를 대체할 방안으로 각광 받고 있습니다.\n",
    "\n",
    "\n",
    "\n",
    "\n",
    "## 2. 목표\n",
    " 신경영상 및 뇌 활동 검사를 위해 제공된 모의 시뮬레이션 데이터를 기반으로 하는 AI 알고리즘 개발\n",
    "\n",
    "\n",
    "\n",
    "### 참고문헌\n",
    "\n",
    "[1] Wabnitz, Heidrun, et al. \"A time-domain NIR brain imager applied in functional stimulation experiments.\" European Conference on Biomedical Optics. Optical Society of America (2005)\n",
    "\n",
    "[2] Perrey, Stéphane. \"Non-invasive NIR spectroscopy of human brain function during exercise.\" Methods 45.4, 289-299 (2008)\n",
    "\n",
    "[3] Golovynskyi, Sergii, et al. \"Optical windows for head tissues in near‐infrared and short‐wave infrared regions: Approaching transcranial light applications.\" Journal of biophotonics 11.12, e201800141 (2018)"
   ]
  },
  {
   "cell_type": "markdown",
   "metadata": {
    "colab_type": "text",
    "id": "emXPnTgsDdLw"
   },
   "source": [
    "# 1. 데이터\n",
    "\n",
    "#### 해결해야 하는 문제 광원, 측정 스펙트럼으로부터 뇌 내 성분 농도 산출\n",
    "\n",
    "\n",
    "#### id : 구분자,  rho : 측정 거리 (단위: mm)\n",
    "#### src : 광원 스펙트럼 (650 nm ~ 990 nm), dst : 측정 스펙트럼 (650 nm ~ 990 nm)\n",
    "#### hhb : 디옥시헤모글로빈 농도, hbo2 : 옥시헤모글로빈 농도 (혈중 산소 포화도)\n",
    "#### ca : 칼슘 농도, na : 나트륨 농도 (na-ca pump)"
   ]
  },
  {
   "cell_type": "markdown",
   "metadata": {},
   "source": [
    "### 1. id : 구분자,  rho : 측정 거리 (단위: mm)\n",
    "\n",
    "[1] Wabnitz, Heidrun, et al. \"A time-domain NIR brain imager applied in functional stimulation experiments.\" European Conference on Biomedical Optics. Optical Society of America (2005)"
   ]
  },
  {
   "cell_type": "markdown",
   "metadata": {},
   "source": [
    "![python image2](https://www.spiedigitallibrary.org/ContentImages/Journals/NEUROW/4/4/041411/WebImages/NPH_4_4_041411_f001.png)"
   ]
  },
  {
   "cell_type": "markdown",
   "metadata": {},
   "source": [
    "![python image2](https://www.spiedigitallibrary.org/ContentImages/Journals/NEUROW/4/4/041411/WebImages/NPH_4_4_041411_f002.png)"
   ]
  },
  {
   "cell_type": "markdown",
   "metadata": {},
   "source": [
    "### 2. src : 광원 스펙트럼 (650 nm ~ 990 nm), dst : 측정 스펙트럼 (650 nm ~ 990 nm)"
   ]
  },
  {
   "cell_type": "markdown",
   "metadata": {},
   "source": [
    "![python image2](https://web-material3.yokogawa.com/10/4537/details/image_5872.jpg)"
   ]
  },
  {
   "cell_type": "markdown",
   "metadata": {},
   "source": [
    "## 근적외선 분광법(NIR)"
   ]
  },
  {
   "cell_type": "markdown",
   "metadata": {},
   "source": [
    "![python image2](https://www.azom.com/images/Article_Images/ImageForArticle_17511(1).png)"
   ]
  },
  {
   "cell_type": "markdown",
   "metadata": {},
   "source": [
    "![python image2](https://media.springernature.com/lw685/springer-static/image/art%3A10.1038%2Fs41467-019-09043-x/MediaObjects/41467_2019_9043_Fig1_HTML.png?as=webp)"
   ]
  },
  {
   "cell_type": "markdown",
   "metadata": {},
   "source": [
    "### 3. hhb : 디옥시헤모글로빈 농도, hbo2 : 옥시헤모글로빈 농도 (혈중 산소 포화도)"
   ]
  },
  {
   "cell_type": "markdown",
   "metadata": {},
   "source": [
    "![python image2](https://mblogthumb-phinf.pstatic.net/20130529_212/ling1134_1369838008652N7nvl_JPEG/respiratory_system27.png.jpg?type=w2)"
   ]
  },
  {
   "cell_type": "markdown",
   "metadata": {},
   "source": [
    "![python image2](https://www.researchgate.net/profile/Walter_Karlen/publication/235387422/figure/fig1/AS:601800562462729@1520491843958/Quantum-efficiency-for-colored-pixels-of-a-high-end-RGB-CMOS-camera-sensor-Adapted-from.png)"
   ]
  },
  {
   "cell_type": "markdown",
   "metadata": {},
   "source": [
    "### 4. ca : 칼슘 농도, na : 나트륨 농도 (na-ca pump)"
   ]
  },
  {
   "cell_type": "markdown",
   "metadata": {},
   "source": [
    "![python image2](https://lh3.googleusercontent.com/proxy/gB5x9pJMSk8-xLeO1o8Ii0eZflHcrhSCjc-0Avlvm9WDDUuEsbDvLZM6GrNvnxTWUSaq7sWiNv9zrIRoBRjm5aHs8cdp2UyMMbtIRrU6r2rupOHm-6Hx99k8X0M5cxUPFjtD2mF6PfPwjGGEUc78t0zFHOFYgto)"
   ]
  },
  {
   "cell_type": "code",
   "execution_count": 28,
   "metadata": {
    "colab": {
     "base_uri": "https://localhost:8080/",
     "height": 146,
     "resources": {
      "http://localhost:8080/nbextensions/google.colab/files.js": {
       "data": "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",
       "headers": [
        [
         "content-type",
         "application/javascript"
        ]
       ],
       "ok": true,
       "status": 200,
       "status_text": ""
      }
     }
    },
    "colab_type": "code",
    "id": "Mq3isq2nDdLx",
    "outputId": "c922e5d0-f96f-4e7a-c08b-8b931d7040f6"
   },
   "outputs": [],
   "source": [
    "import pandas as pd\n",
    "import matplotlib.pyplot as plt\n",
    "#from google.colab import files\n",
    "#uploaded = files.upload()"
   ]
  },
  {
   "cell_type": "code",
   "execution_count": 29,
   "metadata": {
    "colab": {
     "base_uri": "https://localhost:8080/",
     "height": 340
    },
    "colab_type": "code",
    "id": "G_ExcCPdDdL3",
    "outputId": "bf6b3583-1f9b-44c5-8b64-9929c394b03c"
   },
   "outputs": [
    {
     "data": {
      "text/html": [
       "<div>\n",
       "<style scoped>\n",
       "    .dataframe tbody tr th:only-of-type {\n",
       "        vertical-align: middle;\n",
       "    }\n",
       "\n",
       "    .dataframe tbody tr th {\n",
       "        vertical-align: top;\n",
       "    }\n",
       "\n",
       "    .dataframe thead th {\n",
       "        text-align: right;\n",
       "    }\n",
       "</style>\n",
       "<table border=\"1\" class=\"dataframe\">\n",
       "  <thead>\n",
       "    <tr style=\"text-align: right;\">\n",
       "      <th></th>\n",
       "      <th>id</th>\n",
       "      <th>rho</th>\n",
       "      <th>650_src</th>\n",
       "      <th>660_src</th>\n",
       "      <th>670_src</th>\n",
       "      <th>680_src</th>\n",
       "      <th>690_src</th>\n",
       "      <th>700_src</th>\n",
       "      <th>710_src</th>\n",
       "      <th>720_src</th>\n",
       "      <th>...</th>\n",
       "      <th>940_dst</th>\n",
       "      <th>950_dst</th>\n",
       "      <th>960_dst</th>\n",
       "      <th>970_dst</th>\n",
       "      <th>980_dst</th>\n",
       "      <th>990_dst</th>\n",
       "      <th>hhb</th>\n",
       "      <th>hbo2</th>\n",
       "      <th>ca</th>\n",
       "      <th>na</th>\n",
       "    </tr>\n",
       "  </thead>\n",
       "  <tbody>\n",
       "    <tr>\n",
       "      <th>0</th>\n",
       "      <td>0</td>\n",
       "      <td>25</td>\n",
       "      <td>0.37950</td>\n",
       "      <td>0.42993</td>\n",
       "      <td>0.52076</td>\n",
       "      <td>0.57166</td>\n",
       "      <td>0.67818</td>\n",
       "      <td>0.75476</td>\n",
       "      <td>0.83580</td>\n",
       "      <td>0.93623</td>\n",
       "      <td>...</td>\n",
       "      <td>NaN</td>\n",
       "      <td>0.000000e+00</td>\n",
       "      <td>NaN</td>\n",
       "      <td>1.067504e-18</td>\n",
       "      <td>5.998949e-18</td>\n",
       "      <td>4.378513e-17</td>\n",
       "      <td>5.59</td>\n",
       "      <td>4.32</td>\n",
       "      <td>8.92</td>\n",
       "      <td>4.29</td>\n",
       "    </tr>\n",
       "    <tr>\n",
       "      <th>1</th>\n",
       "      <td>1</td>\n",
       "      <td>10</td>\n",
       "      <td>0.00000</td>\n",
       "      <td>0.00000</td>\n",
       "      <td>0.01813</td>\n",
       "      <td>0.00000</td>\n",
       "      <td>0.00000</td>\n",
       "      <td>0.01974</td>\n",
       "      <td>0.00321</td>\n",
       "      <td>0.00000</td>\n",
       "      <td>...</td>\n",
       "      <td>1.343132e-08</td>\n",
       "      <td>6.112685e-09</td>\n",
       "      <td>2.130547e-09</td>\n",
       "      <td>NaN</td>\n",
       "      <td>9.710091e-09</td>\n",
       "      <td>NaN</td>\n",
       "      <td>0.00</td>\n",
       "      <td>2.83</td>\n",
       "      <td>7.25</td>\n",
       "      <td>4.64</td>\n",
       "    </tr>\n",
       "    <tr>\n",
       "      <th>2</th>\n",
       "      <td>2</td>\n",
       "      <td>25</td>\n",
       "      <td>0.00000</td>\n",
       "      <td>0.03289</td>\n",
       "      <td>0.02416</td>\n",
       "      <td>0.03610</td>\n",
       "      <td>0.05843</td>\n",
       "      <td>0.09015</td>\n",
       "      <td>0.14944</td>\n",
       "      <td>0.18578</td>\n",
       "      <td>...</td>\n",
       "      <td>0.000000e+00</td>\n",
       "      <td>0.000000e+00</td>\n",
       "      <td>0.000000e+00</td>\n",
       "      <td>0.000000e+00</td>\n",
       "      <td>1.329725e-18</td>\n",
       "      <td>NaN</td>\n",
       "      <td>10.64</td>\n",
       "      <td>3.00</td>\n",
       "      <td>8.40</td>\n",
       "      <td>5.16</td>\n",
       "    </tr>\n",
       "    <tr>\n",
       "      <th>3</th>\n",
       "      <td>3</td>\n",
       "      <td>10</td>\n",
       "      <td>0.27503</td>\n",
       "      <td>0.31281</td>\n",
       "      <td>0.32898</td>\n",
       "      <td>0.41041</td>\n",
       "      <td>0.46587</td>\n",
       "      <td>0.52769</td>\n",
       "      <td>0.64369</td>\n",
       "      <td>0.73562</td>\n",
       "      <td>...</td>\n",
       "      <td>2.245998e-10</td>\n",
       "      <td>1.299511e-10</td>\n",
       "      <td>7.782625e-11</td>\n",
       "      <td>NaN</td>\n",
       "      <td>4.088921e-10</td>\n",
       "      <td>NaN</td>\n",
       "      <td>5.67</td>\n",
       "      <td>4.01</td>\n",
       "      <td>5.05</td>\n",
       "      <td>4.35</td>\n",
       "    </tr>\n",
       "    <tr>\n",
       "      <th>4</th>\n",
       "      <td>4</td>\n",
       "      <td>15</td>\n",
       "      <td>1.01521</td>\n",
       "      <td>1.00872</td>\n",
       "      <td>0.98930</td>\n",
       "      <td>0.98874</td>\n",
       "      <td>1.01773</td>\n",
       "      <td>1.01632</td>\n",
       "      <td>1.00009</td>\n",
       "      <td>0.98217</td>\n",
       "      <td>...</td>\n",
       "      <td>1.457955e-13</td>\n",
       "      <td>8.769053e-14</td>\n",
       "      <td>NaN</td>\n",
       "      <td>1.330237e-13</td>\n",
       "      <td>NaN</td>\n",
       "      <td>NaN</td>\n",
       "      <td>11.97</td>\n",
       "      <td>4.41</td>\n",
       "      <td>10.78</td>\n",
       "      <td>2.42</td>\n",
       "    </tr>\n",
       "  </tbody>\n",
       "</table>\n",
       "<p>5 rows × 76 columns</p>\n",
       "</div>"
      ],
      "text/plain": [
       "   id  rho  650_src  660_src  670_src  680_src  690_src  700_src  710_src  \\\n",
       "0   0   25  0.37950  0.42993  0.52076  0.57166  0.67818  0.75476  0.83580   \n",
       "1   1   10  0.00000  0.00000  0.01813  0.00000  0.00000  0.01974  0.00321   \n",
       "2   2   25  0.00000  0.03289  0.02416  0.03610  0.05843  0.09015  0.14944   \n",
       "3   3   10  0.27503  0.31281  0.32898  0.41041  0.46587  0.52769  0.64369   \n",
       "4   4   15  1.01521  1.00872  0.98930  0.98874  1.01773  1.01632  1.00009   \n",
       "\n",
       "   720_src  ...       940_dst       950_dst       960_dst       970_dst  \\\n",
       "0  0.93623  ...           NaN  0.000000e+00           NaN  1.067504e-18   \n",
       "1  0.00000  ...  1.343132e-08  6.112685e-09  2.130547e-09           NaN   \n",
       "2  0.18578  ...  0.000000e+00  0.000000e+00  0.000000e+00  0.000000e+00   \n",
       "3  0.73562  ...  2.245998e-10  1.299511e-10  7.782625e-11           NaN   \n",
       "4  0.98217  ...  1.457955e-13  8.769053e-14           NaN  1.330237e-13   \n",
       "\n",
       "        980_dst       990_dst    hhb  hbo2     ca    na  \n",
       "0  5.998949e-18  4.378513e-17   5.59  4.32   8.92  4.29  \n",
       "1  9.710091e-09           NaN   0.00  2.83   7.25  4.64  \n",
       "2  1.329725e-18           NaN  10.64  3.00   8.40  5.16  \n",
       "3  4.088921e-10           NaN   5.67  4.01   5.05  4.35  \n",
       "4           NaN           NaN  11.97  4.41  10.78  2.42  \n",
       "\n",
       "[5 rows x 76 columns]"
      ]
     },
     "execution_count": 29,
     "metadata": {},
     "output_type": "execute_result"
    }
   ],
   "source": [
    "#import io\n",
    "#train = pd.read_csv(io.StringIO(uploaded['train.csv'].decode('utf-8')), index_col=0)\n",
    "#test = pd.read_csv(io.StringIO(uploaded['test.csv'].decode('utf-8')), index_col=0)\n",
    "#submission = pd.read_csv(io.StringIO(uploaded['sample_submission.csv'].decode('utf-8')),index_col=0)\n",
    "df = pd.read_csv('data/train.csv')\n",
    "df.head()"
   ]
  },
  {
   "cell_type": "markdown",
   "metadata": {
    "colab_type": "text",
    "id": "HzURY9meDdL7"
   },
   "source": [
    "# 2. 데이터 탐색"
   ]
  },
  {
   "cell_type": "code",
   "execution_count": 30,
   "metadata": {},
   "outputs": [
    {
     "data": {
      "text/plain": [
       "Text(0.5, 1.0, 'Na')"
      ]
     },
     "execution_count": 30,
     "metadata": {},
     "output_type": "execute_result"
    },
    {
     "data": {
      "image/png": "[encoded data removed]",
      "text/plain": [
       "<Figure size 504x360 with 1 Axes>"
      ]
     },
     "metadata": {
      "needs_background": "light"
     },
     "output_type": "display_data"
    }
   ],
   "source": [
    "plt1=df.isna().sum().plot(kind='line',figsize=(7,5))\n",
    "plt1.set_title('Na', fontsize=20)"
   ]
  },
  {
   "cell_type": "code",
   "execution_count": 31,
   "metadata": {},
   "outputs": [
    {
     "data": {
      "text/plain": [
       "Text(0.5, 1.0, 'X_Y_Correlation')"
      ]
     },
     "execution_count": 31,
     "metadata": {},
     "output_type": "execute_result"
    },
    {
     "data": {
      "image/png": "[encoded data removed]",
      "text/plain": [
       "<Figure size 288x864 with 2 Axes>"
      ]
     },
     "metadata": {
      "needs_background": "light"
     },
     "output_type": "display_data"
    }
   ],
   "source": [
    "import seaborn as sns \n",
    "df1 = df.fillna(0)\n",
    "plt.figure(figsize=(4, 12))\n",
    "sns.heatmap(df.corr().loc['rho':'990_dst', 'hhb':].abs())\n",
    "plt.title('X_Y_Correlation', fontsize=20)"
   ]
  },
  {
   "cell_type": "markdown",
   "metadata": {},
   "source": [
    "## 다중 출력 문제 (종속 변수 상관성 확인)"
   ]
  },
  {
   "cell_type": "code",
   "execution_count": 32,
   "metadata": {},
   "outputs": [
    {
     "data": {
      "text/plain": [
       "Text(0.5, 1.0, 'Y_Correlation')"
      ]
     },
     "execution_count": 32,
     "metadata": {},
     "output_type": "execute_result"
    },
    {
     "data": {
      "image/png": "[encoded data removed]",
      "text/plain": [
       "<Figure size 288x288 with 2 Axes>"
      ]
     },
     "metadata": {
      "needs_background": "light"
     },
     "output_type": "display_data"
    }
   ],
   "source": [
    "import seaborn as sns \n",
    "df1 = df.fillna(0)\n",
    "plt.figure(figsize=(4, 4))\n",
    "sns.heatmap(df1.corr().loc['hhb':, 'hhb':].abs(),cmap=\"YlGnBu\")\n",
    "plt.title('Y_Correlation', fontsize=20)"
   ]
  },
  {
   "cell_type": "code",
   "execution_count": 33,
   "metadata": {},
   "outputs": [
    {
     "data": {
      "text/html": [
       "<div>\n",
       "<style scoped>\n",
       "    .dataframe tbody tr th:only-of-type {\n",
       "        vertical-align: middle;\n",
       "    }\n",
       "\n",
       "    .dataframe tbody tr th {\n",
       "        vertical-align: top;\n",
       "    }\n",
       "\n",
       "    .dataframe thead th {\n",
       "        text-align: right;\n",
       "    }\n",
       "</style>\n",
       "<table border=\"1\" class=\"dataframe\">\n",
       "  <thead>\n",
       "    <tr style=\"text-align: right;\">\n",
       "      <th></th>\n",
       "      <th>hhb</th>\n",
       "      <th>hbo2</th>\n",
       "      <th>ca</th>\n",
       "      <th>na</th>\n",
       "    </tr>\n",
       "  </thead>\n",
       "  <tbody>\n",
       "    <tr>\n",
       "      <th>hhb</th>\n",
       "      <td>1.000000</td>\n",
       "      <td>0.005313</td>\n",
       "      <td>0.016263</td>\n",
       "      <td>0.009942</td>\n",
       "    </tr>\n",
       "    <tr>\n",
       "      <th>hbo2</th>\n",
       "      <td>0.005313</td>\n",
       "      <td>1.000000</td>\n",
       "      <td>0.002307</td>\n",
       "      <td>0.000726</td>\n",
       "    </tr>\n",
       "    <tr>\n",
       "      <th>ca</th>\n",
       "      <td>0.016263</td>\n",
       "      <td>0.002307</td>\n",
       "      <td>1.000000</td>\n",
       "      <td>0.005959</td>\n",
       "    </tr>\n",
       "    <tr>\n",
       "      <th>na</th>\n",
       "      <td>0.009942</td>\n",
       "      <td>0.000726</td>\n",
       "      <td>0.005959</td>\n",
       "      <td>1.000000</td>\n",
       "    </tr>\n",
       "  </tbody>\n",
       "</table>\n",
       "</div>"
      ],
      "text/plain": [
       "           hhb      hbo2        ca        na\n",
       "hhb   1.000000  0.005313  0.016263  0.009942\n",
       "hbo2  0.005313  1.000000  0.002307  0.000726\n",
       "ca    0.016263  0.002307  1.000000  0.005959\n",
       "na    0.009942  0.000726  0.005959  1.000000"
      ]
     },
     "execution_count": 33,
     "metadata": {},
     "output_type": "execute_result"
    }
   ],
   "source": [
    "df1.corr().loc['hhb':, 'hhb':].abs()"
   ]
  },
  {
   "cell_type": "markdown",
   "metadata": {
    "colab_type": "text",
    "id": "25rBAB12DdL7"
   },
   "source": [
    "## 2.1. 광원 스펙트럼(_src)\n",
    "\n",
    "    근적외선 파장의 빛을 뇌에 쪼임!\n",
    "    결측치는 없다.\n",
    "    파장마다 세기가 다르다!"
   ]
  },
  {
   "cell_type": "code",
   "execution_count": 34,
   "metadata": {
    "colab": {
     "base_uri": "https://localhost:8080/",
     "height": 226
    },
    "colab_type": "code",
    "id": "vTHr6tjuDdL8",
    "outputId": "cf0cb553-c2eb-4edc-8531-b233d8eec526"
   },
   "outputs": [
    {
     "data": {
      "text/plain": [
       "Text(0.5, 1.0, '_src')"
      ]
     },
     "execution_count": 34,
     "metadata": {},
     "output_type": "execute_result"
    },
    {
     "data": {
      "image/png": "[encoded data removed]",
      "text/plain": [
       "<Figure size 1080x720 with 1 Axes>"
      ]
     },
     "metadata": {
      "needs_background": "light"
     },
     "output_type": "display_data"
    }
   ],
   "source": [
    "plt2=df.filter(regex='_src$',axis=1).head().T.plot(figsize=(15,10))\n",
    "plt2.set_xlabel('Wave length',fontsize=20)\n",
    "plt2.set_ylabel('Intensive',fontsize=20)\n",
    "plt2.set_title('_src', fontsize=20)"
   ]
  },
  {
   "cell_type": "markdown",
   "metadata": {
    "colab_type": "text",
    "id": "OCXQ3CsuDdME"
   },
   "source": [
    "## 2.2. 흡광 스펙트럼(_dst)\n",
    "\n",
    "    빛을 쪼여서 나온 스펙트럼\n",
    "    근적외선 영역중 어떤 파장의 빛의 세기가 약해졌는지 알 수 있다."
   ]
  },
  {
   "cell_type": "code",
   "execution_count": 35,
   "metadata": {
    "colab": {
     "base_uri": "https://localhost:8080/",
     "height": 654
    },
    "colab_type": "code",
    "id": "yOABcr6DDdMF",
    "outputId": "e9aad67c-ab63-438d-ceec-e7b29eb20247"
   },
   "outputs": [
    {
     "data": {
      "text/plain": [
       "<matplotlib.legend.Legend at 0x1b4dd5e8548>"
      ]
     },
     "execution_count": 35,
     "metadata": {},
     "output_type": "execute_result"
    },
    {
     "data": {
      "image/png": "[encoded data removed]",
      "text/plain": [
       "<Figure size 1080x720 with 1 Axes>"
      ]
     },
     "metadata": {
      "needs_background": "light"
     },
     "output_type": "display_data"
    }
   ],
   "source": [
    "plt3=df.filter(regex='_dst$',axis=1).head().T.plot(figsize=(15,10))\n",
    "plt3.set_xlabel('Wave length',fontsize=20)\n",
    "plt3.set_ylabel('Intensive',fontsize=20)\n",
    "plt3.set_title('_dst', fontsize=20)\n",
    "plt3.legend(loc='center left')"
   ]
  },
  {
   "cell_type": "markdown",
   "metadata": {
    "colab_type": "text",
    "id": "Rh5Fb_BmDdMI"
   },
   "source": [
    "# 3. 데이터 전처리"
   ]
  },
  {
   "cell_type": "markdown",
   "metadata": {
    "colab_type": "text",
    "id": "RhCnyWZ5DdMJ"
   },
   "source": [
    "### 3.1 흡광 스펙트럼 선형 보간"
   ]
  },
  {
   "cell_type": "code",
   "execution_count": 36,
   "metadata": {
    "colab": {},
    "colab_type": "code",
    "id": "8IhByBmpDdMJ"
   },
   "outputs": [],
   "source": [
    "df_dst = df.filter(regex='_dst$',axis=1)\n",
    "df_dst = df_dst.interpolate(methods='linear', axis=0)"
   ]
  },
  {
   "cell_type": "code",
   "execution_count": 37,
   "metadata": {
    "colab": {
     "base_uri": "https://localhost:8080/",
     "height": 654
    },
    "colab_type": "code",
    "id": "xh9F0AxXDdMN",
    "outputId": "fbcbdf3a-5a4d-404d-ee31-313985ce4c63"
   },
   "outputs": [
    {
     "data": {
      "text/plain": [
       "<matplotlib.legend.Legend at 0x1b4ddc4e808>"
      ]
     },
     "execution_count": 37,
     "metadata": {},
     "output_type": "execute_result"
    },
    {
     "data": {
      "image/png": "[encoded data removed]",
      "text/plain": [
       "<Figure size 1080x720 with 1 Axes>"
      ]
     },
     "metadata": {
      "needs_background": "light"
     },
     "output_type": "display_data"
    }
   ],
   "source": [
    "plt4 = df_dst.head().T.plot(figsize=(15,10))\n",
    "plt4.set_xlabel('Wave length',fontsize=20)\n",
    "plt4.set_ylabel('Intensive',fontsize=20)\n",
    "plt4.set_title('_dst_interpolate', fontsize=20)\n",
    "plt4.legend(loc='center left')"
   ]
  },
  {
   "cell_type": "code",
   "execution_count": 38,
   "metadata": {
    "colab": {},
    "colab_type": "code",
    "id": "iN-cLszODdMR"
   },
   "outputs": [],
   "source": [
    "import numpy as np\n",
    "df_dst=df_dst.replace(np.nan,0)"
   ]
  },
  {
   "cell_type": "markdown",
   "metadata": {
    "colab_type": "text",
    "id": "odYDyIHuDdMU"
   },
   "source": [
    "## 3.2. 흡광도(absorbance) 계산 ab=log(I0/I1)"
   ]
  },
  {
   "cell_type": "markdown",
   "metadata": {},
   "source": [
    "![python image2](https://image.slidesharecdn.com/secondpptchobo-200811012731/95/ai-2-3-1024.jpg?cb=1597109266)"
   ]
  },
  {
   "cell_type": "code",
   "execution_count": 39,
   "metadata": {
    "colab": {},
    "colab_type": "code",
    "id": "Oo-Ij074DdMV"
   },
   "outputs": [],
   "source": [
    "df_scr = df.filter(regex='_src$',axis=1)"
   ]
  },
  {
   "cell_type": "code",
   "execution_count": 40,
   "metadata": {
    "colab": {},
    "colab_type": "code",
    "id": "8tU1sqAUDdMY"
   },
   "outputs": [],
   "source": [
    "df_scr.columns=np.arange(650,1000,10)"
   ]
  },
  {
   "cell_type": "code",
   "execution_count": 41,
   "metadata": {
    "colab": {
     "base_uri": "https://localhost:8080/",
     "height": 255
    },
    "colab_type": "code",
    "id": "AWYvqSJ3DdMb",
    "outputId": "b7928974-5c2e-4f81-ba5c-67058b60ba3a"
   },
   "outputs": [
    {
     "data": {
      "text/html": [
       "<div>\n",
       "<style scoped>\n",
       "    .dataframe tbody tr th:only-of-type {\n",
       "        vertical-align: middle;\n",
       "    }\n",
       "\n",
       "    .dataframe tbody tr th {\n",
       "        vertical-align: top;\n",
       "    }\n",
       "\n",
       "    .dataframe thead th {\n",
       "        text-align: right;\n",
       "    }\n",
       "</style>\n",
       "<table border=\"1\" class=\"dataframe\">\n",
       "  <thead>\n",
       "    <tr style=\"text-align: right;\">\n",
       "      <th></th>\n",
       "      <th>650</th>\n",
       "      <th>660</th>\n",
       "      <th>670</th>\n",
       "      <th>680</th>\n",
       "      <th>690</th>\n",
       "      <th>700</th>\n",
       "      <th>710</th>\n",
       "      <th>720</th>\n",
       "      <th>730</th>\n",
       "      <th>740</th>\n",
       "      <th>...</th>\n",
       "      <th>900</th>\n",
       "      <th>910</th>\n",
       "      <th>920</th>\n",
       "      <th>930</th>\n",
       "      <th>940</th>\n",
       "      <th>950</th>\n",
       "      <th>960</th>\n",
       "      <th>970</th>\n",
       "      <th>980</th>\n",
       "      <th>990</th>\n",
       "    </tr>\n",
       "  </thead>\n",
       "  <tbody>\n",
       "    <tr>\n",
       "      <th>0</th>\n",
       "      <td>0.37950</td>\n",
       "      <td>0.42993</td>\n",
       "      <td>0.52076</td>\n",
       "      <td>0.57166</td>\n",
       "      <td>0.67818</td>\n",
       "      <td>0.75476</td>\n",
       "      <td>0.83580</td>\n",
       "      <td>0.93623</td>\n",
       "      <td>0.96333</td>\n",
       "      <td>1.01541</td>\n",
       "      <td>...</td>\n",
       "      <td>0.14493</td>\n",
       "      <td>0.13150</td>\n",
       "      <td>0.12442</td>\n",
       "      <td>0.10786</td>\n",
       "      <td>0.11984</td>\n",
       "      <td>0.09851</td>\n",
       "      <td>0.10965</td>\n",
       "      <td>0.07424</td>\n",
       "      <td>0.07777</td>\n",
       "      <td>0.05536</td>\n",
       "    </tr>\n",
       "    <tr>\n",
       "      <th>1</th>\n",
       "      <td>0.00000</td>\n",
       "      <td>0.00000</td>\n",
       "      <td>0.01813</td>\n",
       "      <td>0.00000</td>\n",
       "      <td>0.00000</td>\n",
       "      <td>0.01974</td>\n",
       "      <td>0.00321</td>\n",
       "      <td>0.00000</td>\n",
       "      <td>0.00000</td>\n",
       "      <td>0.01295</td>\n",
       "      <td>...</td>\n",
       "      <td>0.41456</td>\n",
       "      <td>0.63716</td>\n",
       "      <td>0.84230</td>\n",
       "      <td>0.97480</td>\n",
       "      <td>0.99803</td>\n",
       "      <td>0.97146</td>\n",
       "      <td>0.87045</td>\n",
       "      <td>0.75330</td>\n",
       "      <td>0.63414</td>\n",
       "      <td>0.53699</td>\n",
       "    </tr>\n",
       "    <tr>\n",
       "      <th>2</th>\n",
       "      <td>0.00000</td>\n",
       "      <td>0.03289</td>\n",
       "      <td>0.02416</td>\n",
       "      <td>0.03610</td>\n",
       "      <td>0.05843</td>\n",
       "      <td>0.09015</td>\n",
       "      <td>0.14944</td>\n",
       "      <td>0.18578</td>\n",
       "      <td>0.25584</td>\n",
       "      <td>0.30445</td>\n",
       "      <td>...</td>\n",
       "      <td>0.46222</td>\n",
       "      <td>0.39113</td>\n",
       "      <td>0.27879</td>\n",
       "      <td>0.19070</td>\n",
       "      <td>0.16603</td>\n",
       "      <td>0.11617</td>\n",
       "      <td>0.06744</td>\n",
       "      <td>0.02343</td>\n",
       "      <td>0.03926</td>\n",
       "      <td>0.03136</td>\n",
       "    </tr>\n",
       "    <tr>\n",
       "      <th>3</th>\n",
       "      <td>0.27503</td>\n",
       "      <td>0.31281</td>\n",
       "      <td>0.32898</td>\n",
       "      <td>0.41041</td>\n",
       "      <td>0.46587</td>\n",
       "      <td>0.52769</td>\n",
       "      <td>0.64369</td>\n",
       "      <td>0.73562</td>\n",
       "      <td>0.79865</td>\n",
       "      <td>0.91482</td>\n",
       "      <td>...</td>\n",
       "      <td>0.17876</td>\n",
       "      <td>0.15139</td>\n",
       "      <td>0.15656</td>\n",
       "      <td>0.13392</td>\n",
       "      <td>0.14247</td>\n",
       "      <td>0.10126</td>\n",
       "      <td>0.09928</td>\n",
       "      <td>0.09239</td>\n",
       "      <td>0.10523</td>\n",
       "      <td>0.06349</td>\n",
       "    </tr>\n",
       "    <tr>\n",
       "      <th>4</th>\n",
       "      <td>1.01521</td>\n",
       "      <td>1.00872</td>\n",
       "      <td>0.98930</td>\n",
       "      <td>0.98874</td>\n",
       "      <td>1.01773</td>\n",
       "      <td>1.01632</td>\n",
       "      <td>1.00009</td>\n",
       "      <td>0.98217</td>\n",
       "      <td>1.01564</td>\n",
       "      <td>1.00216</td>\n",
       "      <td>...</td>\n",
       "      <td>0.98300</td>\n",
       "      <td>1.00616</td>\n",
       "      <td>0.99045</td>\n",
       "      <td>1.01321</td>\n",
       "      <td>1.01559</td>\n",
       "      <td>1.01072</td>\n",
       "      <td>0.99439</td>\n",
       "      <td>0.98597</td>\n",
       "      <td>0.99889</td>\n",
       "      <td>1.01412</td>\n",
       "    </tr>\n",
       "  </tbody>\n",
       "</table>\n",
       "<p>5 rows × 35 columns</p>\n",
       "</div>"
      ],
      "text/plain": [
       "       650      660      670      680      690      700      710      720  \\\n",
       "0  0.37950  0.42993  0.52076  0.57166  0.67818  0.75476  0.83580  0.93623   \n",
       "1  0.00000  0.00000  0.01813  0.00000  0.00000  0.01974  0.00321  0.00000   \n",
       "2  0.00000  0.03289  0.02416  0.03610  0.05843  0.09015  0.14944  0.18578   \n",
       "3  0.27503  0.31281  0.32898  0.41041  0.46587  0.52769  0.64369  0.73562   \n",
       "4  1.01521  1.00872  0.98930  0.98874  1.01773  1.01632  1.00009  0.98217   \n",
       "\n",
       "       730      740  ...      900      910      920      930      940  \\\n",
       "0  0.96333  1.01541  ...  0.14493  0.13150  0.12442  0.10786  0.11984   \n",
       "1  0.00000  0.01295  ...  0.41456  0.63716  0.84230  0.97480  0.99803   \n",
       "2  0.25584  0.30445  ...  0.46222  0.39113  0.27879  0.19070  0.16603   \n",
       "3  0.79865  0.91482  ...  0.17876  0.15139  0.15656  0.13392  0.14247   \n",
       "4  1.01564  1.00216  ...  0.98300  1.00616  0.99045  1.01321  1.01559   \n",
       "\n",
       "       950      960      970      980      990  \n",
       "0  0.09851  0.10965  0.07424  0.07777  0.05536  \n",
       "1  0.97146  0.87045  0.75330  0.63414  0.53699  \n",
       "2  0.11617  0.06744  0.02343  0.03926  0.03136  \n",
       "3  0.10126  0.09928  0.09239  0.10523  0.06349  \n",
       "4  1.01072  0.99439  0.98597  0.99889  1.01412  \n",
       "\n",
       "[5 rows x 35 columns]"
      ]
     },
     "execution_count": 41,
     "metadata": {},
     "output_type": "execute_result"
    }
   ],
   "source": [
    "df_scr.head()"
   ]
  },
  {
   "cell_type": "code",
   "execution_count": 42,
   "metadata": {
    "colab": {},
    "colab_type": "code",
    "id": "zR6TsHRyDdMe"
   },
   "outputs": [],
   "source": [
    "df_dst.columns=np.arange(650,1000,10)"
   ]
  },
  {
   "cell_type": "markdown",
   "metadata": {
    "colab_type": "text",
    "id": "ErI7A7E-DdMh"
   },
   "source": [
    "## 3.2.3 흡광도 계산(ab)을 위한 0값 처리하기"
   ]
  },
  {
   "cell_type": "code",
   "execution_count": 43,
   "metadata": {
    "colab": {},
    "colab_type": "code",
    "id": "o3FVl5svDdMh"
   },
   "outputs": [],
   "source": [
    "eps = np.finfo(float).eps\n",
    "\n",
    "I1=df_dst\n",
    "I0=df_scr \n",
    "rho=df['rho']"
   ]
  },
  {
   "cell_type": "code",
   "execution_count": 44,
   "metadata": {
    "colab": {
     "base_uri": "https://localhost:8080/",
     "height": 255
    },
    "colab_type": "code",
    "id": "RpKS5P1WDdMo",
    "outputId": "c85c5825-c1a0-43a2-eb49-be8b280fe0a7"
   },
   "outputs": [
    {
     "data": {
      "text/html": [
       "<div>\n",
       "<style scoped>\n",
       "    .dataframe tbody tr th:only-of-type {\n",
       "        vertical-align: middle;\n",
       "    }\n",
       "\n",
       "    .dataframe tbody tr th {\n",
       "        vertical-align: top;\n",
       "    }\n",
       "\n",
       "    .dataframe thead th {\n",
       "        text-align: right;\n",
       "    }\n",
       "</style>\n",
       "<table border=\"1\" class=\"dataframe\">\n",
       "  <thead>\n",
       "    <tr style=\"text-align: right;\">\n",
       "      <th></th>\n",
       "      <th>650</th>\n",
       "      <th>660</th>\n",
       "      <th>670</th>\n",
       "      <th>680</th>\n",
       "      <th>690</th>\n",
       "      <th>700</th>\n",
       "      <th>710</th>\n",
       "      <th>720</th>\n",
       "      <th>730</th>\n",
       "      <th>740</th>\n",
       "      <th>...</th>\n",
       "      <th>900</th>\n",
       "      <th>910</th>\n",
       "      <th>920</th>\n",
       "      <th>930</th>\n",
       "      <th>940</th>\n",
       "      <th>950</th>\n",
       "      <th>960</th>\n",
       "      <th>970</th>\n",
       "      <th>980</th>\n",
       "      <th>990</th>\n",
       "    </tr>\n",
       "  </thead>\n",
       "  <tbody>\n",
       "    <tr>\n",
       "      <th>0</th>\n",
       "      <td>1.402552</td>\n",
       "      <td>3.519102</td>\n",
       "      <td>1.415647</td>\n",
       "      <td>3.545597</td>\n",
       "      <td>2.373801</td>\n",
       "      <td>1.430332</td>\n",
       "      <td>1.793214</td>\n",
       "      <td>1.439110</td>\n",
       "      <td>1.800315</td>\n",
       "      <td>1.442358</td>\n",
       "      <td>...</td>\n",
       "      <td>1.364486</td>\n",
       "      <td>1.359966</td>\n",
       "      <td>1.358382</td>\n",
       "      <td>2.254255</td>\n",
       "      <td>3.392206</td>\n",
       "      <td>1.349042</td>\n",
       "      <td>2.255546</td>\n",
       "      <td>1.671920</td>\n",
       "      <td>1.338520</td>\n",
       "      <td>3.296978</td>\n",
       "    </tr>\n",
       "    <tr>\n",
       "      <th>1</th>\n",
       "      <td>0.000000</td>\n",
       "      <td>0.000000</td>\n",
       "      <td>1.281339</td>\n",
       "      <td>-1.370871</td>\n",
       "      <td>-0.869517</td>\n",
       "      <td>1.284742</td>\n",
       "      <td>1.515108</td>\n",
       "      <td>0.000000</td>\n",
       "      <td>0.000000</td>\n",
       "      <td>1.267880</td>\n",
       "      <td>...</td>\n",
       "      <td>0.754762</td>\n",
       "      <td>1.423275</td>\n",
       "      <td>0.755863</td>\n",
       "      <td>1.210713</td>\n",
       "      <td>1.812370</td>\n",
       "      <td>0.755358</td>\n",
       "      <td>1.321876</td>\n",
       "      <td>1.787898</td>\n",
       "      <td>0.719785</td>\n",
       "      <td>3.521731</td>\n",
       "    </tr>\n",
       "    <tr>\n",
       "      <th>2</th>\n",
       "      <td>-0.000030</td>\n",
       "      <td>3.262890</td>\n",
       "      <td>0.824892</td>\n",
       "      <td>3.272219</td>\n",
       "      <td>1.379043</td>\n",
       "      <td>0.893184</td>\n",
       "      <td>1.706938</td>\n",
       "      <td>1.374383</td>\n",
       "      <td>1.733840</td>\n",
       "      <td>1.394137</td>\n",
       "      <td>...</td>\n",
       "      <td>1.410052</td>\n",
       "      <td>1.403944</td>\n",
       "      <td>1.390075</td>\n",
       "      <td>2.292440</td>\n",
       "      <td>3.424807</td>\n",
       "      <td>1.355638</td>\n",
       "      <td>2.223142</td>\n",
       "      <td>1.614496</td>\n",
       "      <td>1.312005</td>\n",
       "      <td>3.235287</td>\n",
       "    </tr>\n",
       "    <tr>\n",
       "      <th>3</th>\n",
       "      <td>0.905603</td>\n",
       "      <td>3.488138</td>\n",
       "      <td>0.901618</td>\n",
       "      <td>2.453137</td>\n",
       "      <td>1.595502</td>\n",
       "      <td>0.936139</td>\n",
       "      <td>1.371235</td>\n",
       "      <td>1.429447</td>\n",
       "      <td>1.117058</td>\n",
       "      <td>1.273718</td>\n",
       "      <td>...</td>\n",
       "      <td>0.842452</td>\n",
       "      <td>0.865166</td>\n",
       "      <td>1.224644</td>\n",
       "      <td>1.367079</td>\n",
       "      <td>2.026808</td>\n",
       "      <td>0.818952</td>\n",
       "      <td>1.397782</td>\n",
       "      <td>1.397816</td>\n",
       "      <td>0.774638</td>\n",
       "      <td>3.303478</td>\n",
       "    </tr>\n",
       "    <tr>\n",
       "      <th>4</th>\n",
       "      <td>1.227249</td>\n",
       "      <td>3.605228</td>\n",
       "      <td>1.441316</td>\n",
       "      <td>2.977791</td>\n",
       "      <td>2.404082</td>\n",
       "      <td>1.442394</td>\n",
       "      <td>1.493809</td>\n",
       "      <td>1.441027</td>\n",
       "      <td>1.802959</td>\n",
       "      <td>1.249969</td>\n",
       "      <td>...</td>\n",
       "      <td>1.441060</td>\n",
       "      <td>0.968653</td>\n",
       "      <td>1.271281</td>\n",
       "      <td>2.042409</td>\n",
       "      <td>2.957052</td>\n",
       "      <td>1.202924</td>\n",
       "      <td>1.597604</td>\n",
       "      <td>1.481623</td>\n",
       "      <td>0.892384</td>\n",
       "      <td>3.578278</td>\n",
       "    </tr>\n",
       "  </tbody>\n",
       "</table>\n",
       "<p>5 rows × 35 columns</p>\n",
       "</div>"
      ],
      "text/plain": [
       "        650       660       670       680       690       700       710  \\\n",
       "0  1.402552  3.519102  1.415647  3.545597  2.373801  1.430332  1.793214   \n",
       "1  0.000000  0.000000  1.281339 -1.370871 -0.869517  1.284742  1.515108   \n",
       "2 -0.000030  3.262890  0.824892  3.272219  1.379043  0.893184  1.706938   \n",
       "3  0.905603  3.488138  0.901618  2.453137  1.595502  0.936139  1.371235   \n",
       "4  1.227249  3.605228  1.441316  2.977791  2.404082  1.442394  1.493809   \n",
       "\n",
       "        720       730       740  ...       900       910       920       930  \\\n",
       "0  1.439110  1.800315  1.442358  ...  1.364486  1.359966  1.358382  2.254255   \n",
       "1  0.000000  0.000000  1.267880  ...  0.754762  1.423275  0.755863  1.210713   \n",
       "2  1.374383  1.733840  1.394137  ...  1.410052  1.403944  1.390075  2.292440   \n",
       "3  1.429447  1.117058  1.273718  ...  0.842452  0.865166  1.224644  1.367079   \n",
       "4  1.441027  1.802959  1.249969  ...  1.441060  0.968653  1.271281  2.042409   \n",
       "\n",
       "        940       950       960       970       980       990  \n",
       "0  3.392206  1.349042  2.255546  1.671920  1.338520  3.296978  \n",
       "1  1.812370  0.755358  1.321876  1.787898  0.719785  3.521731  \n",
       "2  3.424807  1.355638  2.223142  1.614496  1.312005  3.235287  \n",
       "3  2.026808  0.818952  1.397782  1.397816  0.774638  3.303478  \n",
       "4  2.957052  1.202924  1.597604  1.481623  0.892384  3.578278  \n",
       "\n",
       "[5 rows x 35 columns]"
      ]
     },
     "execution_count": 44,
     "metadata": {},
     "output_type": "execute_result"
    }
   ],
   "source": [
    "ab=(I0+eps)/(I1+eps)\n",
    "for i,j in zip(ab.columns, range(len(rho))):\n",
    "    ab[i]=ab[i].apply(lambda x : np.log(x)) / rho[j]\n",
    "\n",
    "df_x=ab    \n",
    "df_x.head()"
   ]
  },
  {
   "cell_type": "code",
   "execution_count": 45,
   "metadata": {
    "colab": {
     "base_uri": "https://localhost:8080/",
     "height": 654
    },
    "colab_type": "code",
    "id": "5ZtU72ucDdMs",
    "outputId": "97752ec3-6fae-4eda-e860-db520de24539"
   },
   "outputs": [
    {
     "data": {
      "text/plain": [
       "<matplotlib.legend.Legend at 0x1b4dd61d7c8>"
      ]
     },
     "execution_count": 45,
     "metadata": {},
     "output_type": "execute_result"
    },
    {
     "data": {
      "image/png": "[encoded data removed]",
      "text/plain": [
       "<Figure size 1080x720 with 1 Axes>"
      ]
     },
     "metadata": {
      "needs_background": "light"
     },
     "output_type": "display_data"
    }
   ],
   "source": [
    "plt5=df_x.head().T.plot(figsize=(15,10))\n",
    "plt5.set_xlabel('Wave length',fontsize=20)\n",
    "plt5.set_ylabel('absorbance',fontsize=20)\n",
    "plt5.set_title('absorbance', fontsize=20)\n",
    "plt5.legend(loc='center left')"
   ]
  },
  {
   "cell_type": "code",
   "execution_count": 46,
   "metadata": {},
   "outputs": [],
   "source": [
    "df1=pd.concat([df_x,df.loc[:,'hhb':'na']],axis=1)"
   ]
  },
  {
   "cell_type": "code",
   "execution_count": 47,
   "metadata": {},
   "outputs": [
    {
     "data": {
      "text/plain": [
       "Text(0.5, 1.0, 'Correlation After Feature Engineering')"
      ]
     },
     "execution_count": 47,
     "metadata": {},
     "output_type": "execute_result"
    },
    {
     "data": {
      "image/png": "[encoded data removed]",
      "text/plain": [
       "<Figure size 288x864 with 2 Axes>"
      ]
     },
     "metadata": {
      "needs_background": "light"
     },
     "output_type": "display_data"
    }
   ],
   "source": [
    "plt.figure(figsize=(4, 12))\n",
    "sns.heatmap(df1.corr().iloc[:-4, -4:].abs())\n",
    "plt.title('Correlation After Feature Engineering', fontsize=20)"
   ]
  },
  {
   "attachments": {},
   "cell_type": "markdown",
   "metadata": {},
   "source": [
    "# Train Set : Validation Set : Test Set = 8 : 1 : 1\n",
    "\n",
    "서로 다른 모델간 평가를 위해 Validation Set 사용. \n",
    "모델 튜닝 시에는 훈련 세트를 이용 5겹 k-fold 실시 \n"
   ]
  },
  {
   "cell_type": "code",
   "execution_count": 48,
   "metadata": {},
   "outputs": [],
   "source": [
    "train_x = df_x[:8000] #0~7999\n",
    "train_y = df.loc[:8000-1,'hhb':'na']\n",
    "\n",
    "\n",
    "validation_x = df_x[8000:9000]\n",
    "validation_y = df.loc[8000:9000-1,'hhb':'na']\n",
    "\n",
    "test_x = df_x[9000:]\n",
    "test_y = df.loc[9000:,'hhb':'na']"
   ]
  },
  {
   "attachments": {},
   "cell_type": "markdown",
   "metadata": {
    "colab_type": "text",
    "id": "3aoIJanMDdMu"
   },
   "source": [
    "# 4. 모델 구축 Linear Regression, RF, XGBoost, DNN\n",
    "\n",
    "\n",
    "    1. Linear Regression\n",
    "    흡광도와 농도는 선형적인 상관성이 있을 것으로 보임=>선형 회귀 실시\n",
    "    다중 출력 회귀 모형 => 다변량 회귀\n",
    "    다변량 회귀는 해석이 어려워 잘 사용하지 않음\n",
    "    EDA과정중 종속병수 독립 확인 => 종속변수를 독립이라 가정하고 종속 변수별로 예측 모형을 구축\n",
    "\n",
    "  \n",
    "\n",
    "\n",
    "\n",
    "    2. RF, XGBoost, DNN\n",
    " \n",
    "    변수간 교호 작용을 반영할 수 있고 일반화 성능이 안정적인 Random Forest, XGBOOST 실시\n",
    "    또한 여러 종류의 원소가 여러 농도로 섞여 있으므로 새로운 패턴을 발견해야함=>DNN\n",
    "    Feature selection은 필요하지 않음\n",
    "    Scaling 또한 흡광도 계산시 scaling이 되었으므로 실시하지 않음\n"
   ]
  },
  {
   "cell_type": "markdown",
   "metadata": {},
   "source": [
    "## 모델 평가 점수 Macro Average MAE \n",
    "\n",
    "    다중출력 회귀 모형의 평가를 위해 다중클래스 분류의 평가 방식인 Macro Average 도입\n",
    "    macro avarage = 평균들의 평균"
   ]
  },
  {
   "cell_type": "markdown",
   "metadata": {},
   "source": [
    "![python image2](https://interviewbubble.com/wp-content/uploads/2019/03/macro.png)"
   ]
  },
  {
   "cell_type": "code",
   "execution_count": 49,
   "metadata": {},
   "outputs": [],
   "source": [
    "from sklearn.metrics import mean_absolute_error\n",
    "def macro_average_mae(Y_true, Y_pred): \n",
    "    li=[]\n",
    "    for i in range(0,4) :\n",
    "        y_true = np.array(Y_true.iloc[:,i])\n",
    "        y_pred = np.array(Y_pred.iloc[:,i])\n",
    "        li.append(mean_absolute_error(y_true,y_pred))\n",
    "    return np.mean(li),li"
   ]
  },
  {
   "cell_type": "markdown",
   "metadata": {},
   "source": [
    "## Linear Regression"
   ]
  },
  {
   "cell_type": "code",
   "execution_count": 274,
   "metadata": {},
   "outputs": [],
   "source": [
    "from sklearn import linear_model"
   ]
  },
  {
   "cell_type": "code",
   "execution_count": 275,
   "metadata": {},
   "outputs": [],
   "source": [
    "pred_val=pd.DataFrame(columns=['hhb','hbo2','ca','na'])\n",
    "pred_train=pd.DataFrame(columns=['hhb','hbo2','ca','na'])\n",
    "\n",
    "for i in ['hhb','hbo2','ca','na']:\n",
    "    li_reg = linear_model.LinearRegression()\n",
    "    li_reg.fit(train_x,train_y[i])\n",
    "    pred_train_y=li_reg.predict(train_x)\n",
    "    pred_val_y=li_reg.predict(validation_x)\n",
    "    pred_val[i]=pred_val_y\n",
    "    pred_train[i]=pred_train_y"
   ]
  },
  {
   "cell_type": "code",
   "execution_count": 334,
   "metadata": {},
   "outputs": [
    {
     "name": "stdout",
     "output_type": "stream",
     "text": [
      "훈련 세트 성능  macro average mae 1.7534480618824313\n"
     ]
    },
    {
     "data": {
      "text/html": [
       "<div>\n",
       "<style scoped>\n",
       "    .dataframe tbody tr th:only-of-type {\n",
       "        vertical-align: middle;\n",
       "    }\n",
       "\n",
       "    .dataframe tbody tr th {\n",
       "        vertical-align: top;\n",
       "    }\n",
       "\n",
       "    .dataframe thead th {\n",
       "        text-align: right;\n",
       "    }\n",
       "</style>\n",
       "<table border=\"1\" class=\"dataframe\">\n",
       "  <thead>\n",
       "    <tr style=\"text-align: right;\">\n",
       "      <th></th>\n",
       "      <th>hhb</th>\n",
       "      <th>hbo2</th>\n",
       "      <th>ca</th>\n",
       "      <th>na</th>\n",
       "    </tr>\n",
       "  </thead>\n",
       "  <tbody>\n",
       "    <tr>\n",
       "      <th>mae</th>\n",
       "      <td>2.331321</td>\n",
       "      <td>0.791260</td>\n",
       "      <td>2.353729</td>\n",
       "      <td>1.537483</td>\n",
       "    </tr>\n",
       "    <tr>\n",
       "      <th>mean</th>\n",
       "      <td>7.920770</td>\n",
       "      <td>3.998320</td>\n",
       "      <td>8.953760</td>\n",
       "      <td>3.067830</td>\n",
       "    </tr>\n",
       "    <tr>\n",
       "      <th>std</th>\n",
       "      <td>3.015091</td>\n",
       "      <td>1.002869</td>\n",
       "      <td>3.107924</td>\n",
       "      <td>1.833294</td>\n",
       "    </tr>\n",
       "    <tr>\n",
       "      <th>per</th>\n",
       "      <td>29.433004</td>\n",
       "      <td>19.789821</td>\n",
       "      <td>26.287599</td>\n",
       "      <td>50.116297</td>\n",
       "    </tr>\n",
       "  </tbody>\n",
       "</table>\n",
       "</div>"
      ],
      "text/plain": [
       "            hhb       hbo2         ca         na\n",
       "mae    2.331321   0.791260   2.353729   1.537483\n",
       "mean   7.920770   3.998320   8.953760   3.067830\n",
       "std    3.015091   1.002869   3.107924   1.833294\n",
       "per   29.433004  19.789821  26.287599  50.116297"
      ]
     },
     "execution_count": 334,
     "metadata": {},
     "output_type": "execute_result"
    }
   ],
   "source": [
    "macro, raw = macro_average_mae(train_y,pred_train)\n",
    "print(\"훈련 세트 성능 \", \"macro average mae\",macro)\n",
    "raw_summary=pd.DataFrame(raw,index=['hhb','hbo2','ca','na']).T\n",
    "raw_summary=raw_summary.append(validation_y.mean(),ignore_index=True)\n",
    "raw_summary=raw_summary.append(validation_y.std(),ignore_index=True)\n",
    "per=raw_summary.iloc[0,:]/raw_summary.iloc[1,:]*100\n",
    "raw_summary=raw_summary.append(per,ignore_index=True)\n",
    "raw_summary.index=['mae','mean','std','per']\n",
    "raw_summary"
   ]
  },
  {
   "cell_type": "code",
   "execution_count": 415,
   "metadata": {},
   "outputs": [
    {
     "name": "stdout",
     "output_type": "stream",
     "text": [
      "검증 세트 성능  macro average mae 1.7769250727462764\n"
     ]
    },
    {
     "data": {
      "text/html": [
       "<div>\n",
       "<style scoped>\n",
       "    .dataframe tbody tr th:only-of-type {\n",
       "        vertical-align: middle;\n",
       "    }\n",
       "\n",
       "    .dataframe tbody tr th {\n",
       "        vertical-align: top;\n",
       "    }\n",
       "\n",
       "    .dataframe thead th {\n",
       "        text-align: right;\n",
       "    }\n",
       "</style>\n",
       "<table border=\"1\" class=\"dataframe\">\n",
       "  <thead>\n",
       "    <tr style=\"text-align: right;\">\n",
       "      <th></th>\n",
       "      <th>hhb</th>\n",
       "      <th>hbo2</th>\n",
       "      <th>ca</th>\n",
       "      <th>na</th>\n",
       "    </tr>\n",
       "  </thead>\n",
       "  <tbody>\n",
       "    <tr>\n",
       "      <th>mae</th>\n",
       "      <td>2.336121</td>\n",
       "      <td>0.821846</td>\n",
       "      <td>2.497793</td>\n",
       "      <td>1.451940</td>\n",
       "    </tr>\n",
       "    <tr>\n",
       "      <th>mean</th>\n",
       "      <td>7.920770</td>\n",
       "      <td>3.998320</td>\n",
       "      <td>8.953760</td>\n",
       "      <td>3.067830</td>\n",
       "    </tr>\n",
       "    <tr>\n",
       "      <th>std</th>\n",
       "      <td>3.015091</td>\n",
       "      <td>1.002869</td>\n",
       "      <td>3.107924</td>\n",
       "      <td>1.833294</td>\n",
       "    </tr>\n",
       "    <tr>\n",
       "      <th>per</th>\n",
       "      <td>29.493607</td>\n",
       "      <td>20.554791</td>\n",
       "      <td>27.896584</td>\n",
       "      <td>47.327916</td>\n",
       "    </tr>\n",
       "  </tbody>\n",
       "</table>\n",
       "</div>"
      ],
      "text/plain": [
       "            hhb       hbo2         ca         na\n",
       "mae    2.336121   0.821846   2.497793   1.451940\n",
       "mean   7.920770   3.998320   8.953760   3.067830\n",
       "std    3.015091   1.002869   3.107924   1.833294\n",
       "per   29.493607  20.554791  27.896584  47.327916"
      ]
     },
     "execution_count": 415,
     "metadata": {},
     "output_type": "execute_result"
    }
   ],
   "source": [
    "macro, raw = macro_average_mae(validation_y,pred_val)\n",
    "print(\"검증 세트 성능 \", \"macro average mae\",macro)\n",
    "raw_summary=pd.DataFrame(raw,index=['hhb','hbo2','ca','na']).T\n",
    "raw_summary=raw_summary.append(validation_y.mean(),ignore_index=True)\n",
    "raw_summary=raw_summary.append(validation_y.std(),ignore_index=True)\n",
    "per=raw_summary.iloc[0,:]/raw_summary.iloc[1,:]*100\n",
    "raw_summary1=raw_summary.append(per,ignore_index=True)\n",
    "raw_summary1.index=['mae','mean','std','per']\n",
    "raw_summary1"
   ]
  },
  {
   "cell_type": "markdown",
   "metadata": {},
   "source": [
    "## RandomForest"
   ]
  },
  {
   "cell_type": "code",
   "execution_count": 349,
   "metadata": {
    "colab": {},
    "colab_type": "code",
    "id": "BnTFJwYaDdMu"
   },
   "outputs": [],
   "source": [
    "from sklearn.ensemble import RandomForestRegressor"
   ]
  },
  {
   "cell_type": "code",
   "execution_count": 359,
   "metadata": {
    "colab": {},
    "colab_type": "code",
    "id": "3oBiiJwSDdMx"
   },
   "outputs": [],
   "source": [
    "rf = RandomForestRegressor(random_state=42)"
   ]
  },
  {
   "cell_type": "markdown",
   "metadata": {},
   "source": [
    "#### 하이퍼파라메터 튜닝 k-fold=5\n",
    " max_features=1~35"
   ]
  },
  {
   "cell_type": "code",
   "execution_count": 383,
   "metadata": {
    "colab": {},
    "colab_type": "code",
    "id": "cFAyFdDwDdMz"
   },
   "outputs": [],
   "source": [
    "params = {\"max_depth\": [1,3,5,7],\"max_features\": [25,30,35], \"min_samples_split\": [1, 3, 10],\n",
    "             \"min_samples_leaf\": [1, 3, 10]}\n",
    "\n",
    "grid_search = GridSearchCV(estimator = rf, param_grid = params, cv=5, n_jobs=-1)"
   ]
  },
  {
   "cell_type": "code",
   "execution_count": 384,
   "metadata": {
    "colab": {},
    "colab_type": "code",
    "id": "-ZlvVva3DdM5"
   },
   "outputs": [
    {
     "data": {
      "text/plain": [
       "GridSearchCV(cv=5, estimator=RandomForestRegressor(), n_jobs=-1,\n",
       "             param_grid={'max_depth': [1, 3, 5, 7],\n",
       "                         'max_features': [25, 30, 35],\n",
       "                         'min_samples_leaf': [1, 3, 10],\n",
       "                         'min_samples_split': [1, 3, 10]})"
      ]
     },
     "execution_count": 384,
     "metadata": {},
     "output_type": "execute_result"
    }
   ],
   "source": [
    "grid_search.fit(train_x,train_y)"
   ]
  },
  {
   "cell_type": "code",
   "execution_count": 385,
   "metadata": {},
   "outputs": [
    {
     "data": {
      "text/plain": [
       "{'max_depth': 7,\n",
       " 'max_features': 35,\n",
       " 'min_samples_leaf': 10,\n",
       " 'min_samples_split': 10}"
      ]
     },
     "execution_count": 385,
     "metadata": {},
     "output_type": "execute_result"
    }
   ],
   "source": [
    "grid_search.best_params_"
   ]
  },
  {
   "cell_type": "markdown",
   "metadata": {},
   "source": [
    "#### validation score"
   ]
  },
  {
   "cell_type": "code",
   "execution_count": 386,
   "metadata": {
    "colab": {},
    "colab_type": "code",
    "id": "vuYr9F-YDdM9"
   },
   "outputs": [],
   "source": [
    "rf_best=grid_search.best_estimator_\n",
    "rf_best.fit(train_x,train_y)\n",
    "\n",
    "pred_train=rf_best.predict(train_x)\n",
    "pred_val=rf_best.predict(validation_x)"
   ]
  },
  {
   "cell_type": "code",
   "execution_count": 387,
   "metadata": {},
   "outputs": [
    {
     "name": "stdout",
     "output_type": "stream",
     "text": [
      "훈련 세트 성능  macro average mae 1.530502704534944\n"
     ]
    },
    {
     "data": {
      "text/html": [
       "<div>\n",
       "<style scoped>\n",
       "    .dataframe tbody tr th:only-of-type {\n",
       "        vertical-align: middle;\n",
       "    }\n",
       "\n",
       "    .dataframe tbody tr th {\n",
       "        vertical-align: top;\n",
       "    }\n",
       "\n",
       "    .dataframe thead th {\n",
       "        text-align: right;\n",
       "    }\n",
       "</style>\n",
       "<table border=\"1\" class=\"dataframe\">\n",
       "  <thead>\n",
       "    <tr style=\"text-align: right;\">\n",
       "      <th></th>\n",
       "      <th>hhb</th>\n",
       "      <th>hbo2</th>\n",
       "      <th>ca</th>\n",
       "      <th>na</th>\n",
       "    </tr>\n",
       "  </thead>\n",
       "  <tbody>\n",
       "    <tr>\n",
       "      <th>mae</th>\n",
       "      <td>1.751445</td>\n",
       "      <td>0.756739</td>\n",
       "      <td>2.130029</td>\n",
       "      <td>1.483798</td>\n",
       "    </tr>\n",
       "    <tr>\n",
       "      <th>mean</th>\n",
       "      <td>7.920770</td>\n",
       "      <td>3.998320</td>\n",
       "      <td>8.953760</td>\n",
       "      <td>3.067830</td>\n",
       "    </tr>\n",
       "    <tr>\n",
       "      <th>std</th>\n",
       "      <td>3.015091</td>\n",
       "      <td>1.002869</td>\n",
       "      <td>3.107924</td>\n",
       "      <td>1.833294</td>\n",
       "    </tr>\n",
       "    <tr>\n",
       "      <th>per</th>\n",
       "      <td>22.112051</td>\n",
       "      <td>18.926420</td>\n",
       "      <td>23.789217</td>\n",
       "      <td>48.366365</td>\n",
       "    </tr>\n",
       "  </tbody>\n",
       "</table>\n",
       "</div>"
      ],
      "text/plain": [
       "            hhb       hbo2         ca         na\n",
       "mae    1.751445   0.756739   2.130029   1.483798\n",
       "mean   7.920770   3.998320   8.953760   3.067830\n",
       "std    3.015091   1.002869   3.107924   1.833294\n",
       "per   22.112051  18.926420  23.789217  48.366365"
      ]
     },
     "execution_count": 387,
     "metadata": {},
     "output_type": "execute_result"
    }
   ],
   "source": [
    "pred_train=pd.DataFrame(pred_train,columns=['hhb','hbo2','ca','na'])\n",
    "pred_val=pd.DataFrame(pred_val,columns=['hhb','hbo2','ca','na'])\n",
    "\n",
    "macro, raw = macro_average_mae(train_y,pred_train)\n",
    "print(\"훈련 세트 성능 \", \"macro average mae\",macro)\n",
    "\n",
    "raw_summary=pd.DataFrame(raw,index=['hhb','hbo2','ca','na']).T\n",
    "raw_summary=raw_summary.append(validation_y.mean(),ignore_index=True)\n",
    "raw_summary=raw_summary.append(validation_y.std(),ignore_index=True)\n",
    "per=raw_summary.iloc[0,:]/raw_summary.iloc[1,:]*100\n",
    "raw_summary=raw_summary.append(per,ignore_index=True)\n",
    "raw_summary.index=['mae','mean','std','per']\n",
    "raw_summary"
   ]
  },
  {
   "cell_type": "code",
   "execution_count": 416,
   "metadata": {},
   "outputs": [
    {
     "name": "stdout",
     "output_type": "stream",
     "text": [
      "검증 세트 성능  macro average mae 1.7769250727462764\n"
     ]
    },
    {
     "data": {
      "text/html": [
       "<div>\n",
       "<style scoped>\n",
       "    .dataframe tbody tr th:only-of-type {\n",
       "        vertical-align: middle;\n",
       "    }\n",
       "\n",
       "    .dataframe tbody tr th {\n",
       "        vertical-align: top;\n",
       "    }\n",
       "\n",
       "    .dataframe thead th {\n",
       "        text-align: right;\n",
       "    }\n",
       "</style>\n",
       "<table border=\"1\" class=\"dataframe\">\n",
       "  <thead>\n",
       "    <tr style=\"text-align: right;\">\n",
       "      <th></th>\n",
       "      <th>hhb</th>\n",
       "      <th>hbo2</th>\n",
       "      <th>ca</th>\n",
       "      <th>na</th>\n",
       "    </tr>\n",
       "  </thead>\n",
       "  <tbody>\n",
       "    <tr>\n",
       "      <th>mae</th>\n",
       "      <td>2.336121</td>\n",
       "      <td>0.821846</td>\n",
       "      <td>2.497793</td>\n",
       "      <td>1.451940</td>\n",
       "    </tr>\n",
       "    <tr>\n",
       "      <th>mean</th>\n",
       "      <td>7.920770</td>\n",
       "      <td>3.998320</td>\n",
       "      <td>8.953760</td>\n",
       "      <td>3.067830</td>\n",
       "    </tr>\n",
       "    <tr>\n",
       "      <th>std</th>\n",
       "      <td>3.015091</td>\n",
       "      <td>1.002869</td>\n",
       "      <td>3.107924</td>\n",
       "      <td>1.833294</td>\n",
       "    </tr>\n",
       "    <tr>\n",
       "      <th>per</th>\n",
       "      <td>29.493607</td>\n",
       "      <td>20.554791</td>\n",
       "      <td>27.896584</td>\n",
       "      <td>47.327916</td>\n",
       "    </tr>\n",
       "  </tbody>\n",
       "</table>\n",
       "</div>"
      ],
      "text/plain": [
       "            hhb       hbo2         ca         na\n",
       "mae    2.336121   0.821846   2.497793   1.451940\n",
       "mean   7.920770   3.998320   8.953760   3.067830\n",
       "std    3.015091   1.002869   3.107924   1.833294\n",
       "per   29.493607  20.554791  27.896584  47.327916"
      ]
     },
     "execution_count": 416,
     "metadata": {},
     "output_type": "execute_result"
    }
   ],
   "source": [
    "macro, raw = macro_average_mae(validation_y,pred_val)\n",
    "print(\"검증 세트 성능 \", \"macro average mae\",macro)\n",
    "raw_summary=pd.DataFrame(raw,index=['hhb','hbo2','ca','na']).T\n",
    "raw_summary=raw_summary.append(validation_y.mean(),ignore_index=True)\n",
    "raw_summary=raw_summary.append(validation_y.std(),ignore_index=True)\n",
    "per=raw_summary.iloc[0,:]/raw_summary.iloc[1,:]*100\n",
    "raw_summary2=raw_summary.append(per,ignore_index=True)\n",
    "raw_summary2.index=['mae','mean','std','per']\n",
    "raw_summary2"
   ]
  },
  {
   "cell_type": "markdown",
   "metadata": {
    "colab_type": "text",
    "id": "vdVmNJgUDdNN"
   },
   "source": [
    "### xgboost"
   ]
  },
  {
   "cell_type": "markdown",
   "metadata": {},
   "source": [
    "#### 하이퍼 파라메터 튜닝"
   ]
  },
  {
   "cell_type": "code",
   "execution_count": 50,
   "metadata": {
    "colab": {
     "base_uri": "https://localhost:8080/",
     "height": 1000
    },
    "colab_type": "code",
    "id": "cpxwfifbDdNN",
    "outputId": "c963b614-4df8-4505-b7e5-e85ca2786029"
   },
   "outputs": [],
   "source": [
    "import xgboost as xgb\n",
    "from sklearn.model_selection import GridSearchCV\n",
    "\n",
    "xgb_reg = xgb.XGBRegressor(random_state=42,booster='dart')\n",
    "\n",
    "param_grid={'eta':[0.01,0.05,0.1],'max_depth':[3,5,10]}\n",
    "\n",
    "g=GridSearchCV(cv=5,estimator=xgb_reg,param_grid=param_grid)"
   ]
  },
  {
   "cell_type": "markdown",
   "metadata": {},
   "source": [
    "#### validation score"
   ]
  },
  {
   "cell_type": "code",
   "execution_count": 53,
   "metadata": {
    "colab": {
     "base_uri": "https://localhost:8080/",
     "height": 89
    },
    "colab_type": "code",
    "id": "6gwxg94Gp_cC",
    "outputId": "58a7c1b6-d92f-4d00-b6df-c8633c4201c8"
   },
   "outputs": [
    {
     "name": "stdout",
     "output_type": "stream",
     "text": [
      "[16:43:56] WARNING: src/objective/regression_obj.cu:152: reg:linear is now deprecated in favor of reg:squarederror.\n",
      "[16:43:58] WARNING: src/objective/regression_obj.cu:152: reg:linear is now deprecated in favor of reg:squarederror.\n",
      "[16:44:01] WARNING: src/objective/regression_obj.cu:152: reg:linear is now deprecated in favor of reg:squarederror.\n",
      "[16:44:03] WARNING: src/objective/regression_obj.cu:152: reg:linear is now deprecated in favor of reg:squarederror.\n",
      "[16:44:05] WARNING: src/objective/regression_obj.cu:152: reg:linear is now deprecated in favor of reg:squarederror.\n",
      "[16:44:07] WARNING: src/objective/regression_obj.cu:152: reg:linear is now deprecated in favor of reg:squarederror.\n",
      "[16:44:10] WARNING: src/objective/regression_obj.cu:152: reg:linear is now deprecated in favor of reg:squarederror.\n",
      "[16:44:13] WARNING: src/objective/regression_obj.cu:152: reg:linear is now deprecated in favor of reg:squarederror.\n",
      "[16:44:17] WARNING: src/objective/regression_obj.cu:152: reg:linear is now deprecated in favor of reg:squarederror.\n",
      "[16:44:20] WARNING: src/objective/regression_obj.cu:152: reg:linear is now deprecated in favor of reg:squarederror.\n",
      "[16:44:23] WARNING: src/objective/regression_obj.cu:152: reg:linear is now deprecated in favor of reg:squarederror.\n",
      "[16:44:31] WARNING: src/objective/regression_obj.cu:152: reg:linear is now deprecated in favor of reg:squarederror.\n",
      "[16:44:38] WARNING: src/objective/regression_obj.cu:152: reg:linear is now deprecated in favor of reg:squarederror.\n",
      "[16:44:45] WARNING: src/objective/regression_obj.cu:152: reg:linear is now deprecated in favor of reg:squarederror.\n",
      "[16:44:52] WARNING: src/objective/regression_obj.cu:152: reg:linear is now deprecated in favor of reg:squarederror.\n",
      "[16:44:59] WARNING: src/objective/regression_obj.cu:152: reg:linear is now deprecated in favor of reg:squarederror.\n",
      "[16:45:01] WARNING: src/objective/regression_obj.cu:152: reg:linear is now deprecated in favor of reg:squarederror.\n",
      "[16:45:03] WARNING: src/objective/regression_obj.cu:152: reg:linear is now deprecated in favor of reg:squarederror.\n",
      "[16:45:05] WARNING: src/objective/regression_obj.cu:152: reg:linear is now deprecated in favor of reg:squarederror.\n",
      "[16:45:07] WARNING: src/objective/regression_obj.cu:152: reg:linear is now deprecated in favor of reg:squarederror.\n",
      "[16:45:09] WARNING: src/objective/regression_obj.cu:152: reg:linear is now deprecated in favor of reg:squarederror.\n",
      "[16:45:12] WARNING: src/objective/regression_obj.cu:152: reg:linear is now deprecated in favor of reg:squarederror.\n",
      "[16:45:15] WARNING: src/objective/regression_obj.cu:152: reg:linear is now deprecated in favor of reg:squarederror.\n",
      "[16:45:19] WARNING: src/objective/regression_obj.cu:152: reg:linear is now deprecated in favor of reg:squarederror.\n",
      "[16:45:22] WARNING: src/objective/regression_obj.cu:152: reg:linear is now deprecated in favor of reg:squarederror.\n",
      "[16:45:25] WARNING: src/objective/regression_obj.cu:152: reg:linear is now deprecated in favor of reg:squarederror.\n",
      "[16:45:32] WARNING: src/objective/regression_obj.cu:152: reg:linear is now deprecated in favor of reg:squarederror.\n",
      "[16:45:39] WARNING: src/objective/regression_obj.cu:152: reg:linear is now deprecated in favor of reg:squarederror.\n",
      "[16:45:47] WARNING: src/objective/regression_obj.cu:152: reg:linear is now deprecated in favor of reg:squarederror.\n",
      "[16:45:54] WARNING: src/objective/regression_obj.cu:152: reg:linear is now deprecated in favor of reg:squarederror.\n",
      "[16:46:01] WARNING: src/objective/regression_obj.cu:152: reg:linear is now deprecated in favor of reg:squarederror.\n",
      "[16:46:03] WARNING: src/objective/regression_obj.cu:152: reg:linear is now deprecated in favor of reg:squarederror.\n",
      "[16:46:05] WARNING: src/objective/regression_obj.cu:152: reg:linear is now deprecated in favor of reg:squarederror.\n",
      "[16:46:07] WARNING: src/objective/regression_obj.cu:152: reg:linear is now deprecated in favor of reg:squarederror.\n",
      "[16:46:09] WARNING: src/objective/regression_obj.cu:152: reg:linear is now deprecated in favor of reg:squarederror.\n",
      "[16:46:11] WARNING: src/objective/regression_obj.cu:152: reg:linear is now deprecated in favor of reg:squarederror.\n",
      "[16:46:14] WARNING: src/objective/regression_obj.cu:152: reg:linear is now deprecated in favor of reg:squarederror.\n",
      "[16:46:18] WARNING: src/objective/regression_obj.cu:152: reg:linear is now deprecated in favor of reg:squarederror.\n",
      "[16:46:21] WARNING: src/objective/regression_obj.cu:152: reg:linear is now deprecated in favor of reg:squarederror.\n",
      "[16:46:24] WARNING: src/objective/regression_obj.cu:152: reg:linear is now deprecated in favor of reg:squarederror.\n",
      "[16:46:28] WARNING: src/objective/regression_obj.cu:152: reg:linear is now deprecated in favor of reg:squarederror.\n",
      "[16:46:35] WARNING: src/objective/regression_obj.cu:152: reg:linear is now deprecated in favor of reg:squarederror.\n",
      "[16:46:42] WARNING: src/objective/regression_obj.cu:152: reg:linear is now deprecated in favor of reg:squarederror.\n",
      "[16:46:49] WARNING: src/objective/regression_obj.cu:152: reg:linear is now deprecated in favor of reg:squarederror.\n",
      "[16:46:56] WARNING: src/objective/regression_obj.cu:152: reg:linear is now deprecated in favor of reg:squarederror.\n",
      "[16:47:03] WARNING: src/objective/regression_obj.cu:152: reg:linear is now deprecated in favor of reg:squarederror.\n",
      "[16:47:12] WARNING: src/objective/regression_obj.cu:152: reg:linear is now deprecated in favor of reg:squarederror.\n",
      "[16:47:14] WARNING: src/objective/regression_obj.cu:152: reg:linear is now deprecated in favor of reg:squarederror.\n",
      "[16:47:17] WARNING: src/objective/regression_obj.cu:152: reg:linear is now deprecated in favor of reg:squarederror.\n",
      "[16:47:19] WARNING: src/objective/regression_obj.cu:152: reg:linear is now deprecated in favor of reg:squarederror.\n",
      "[16:47:21] WARNING: src/objective/regression_obj.cu:152: reg:linear is now deprecated in favor of reg:squarederror.\n",
      "[16:47:23] WARNING: src/objective/regression_obj.cu:152: reg:linear is now deprecated in favor of reg:squarederror.\n",
      "[16:47:26] WARNING: src/objective/regression_obj.cu:152: reg:linear is now deprecated in favor of reg:squarederror.\n",
      "[16:47:29] WARNING: src/objective/regression_obj.cu:152: reg:linear is now deprecated in favor of reg:squarederror.\n",
      "[16:47:33] WARNING: src/objective/regression_obj.cu:152: reg:linear is now deprecated in favor of reg:squarederror.\n",
      "[16:47:36] WARNING: src/objective/regression_obj.cu:152: reg:linear is now deprecated in favor of reg:squarederror.\n",
      "[16:47:39] WARNING: src/objective/regression_obj.cu:152: reg:linear is now deprecated in favor of reg:squarederror.\n",
      "[16:47:46] WARNING: src/objective/regression_obj.cu:152: reg:linear is now deprecated in favor of reg:squarederror.\n",
      "[16:47:53] WARNING: src/objective/regression_obj.cu:152: reg:linear is now deprecated in favor of reg:squarederror.\n",
      "[16:48:00] WARNING: src/objective/regression_obj.cu:152: reg:linear is now deprecated in favor of reg:squarederror.\n",
      "[16:48:07] WARNING: src/objective/regression_obj.cu:152: reg:linear is now deprecated in favor of reg:squarederror.\n",
      "[16:48:14] WARNING: src/objective/regression_obj.cu:152: reg:linear is now deprecated in favor of reg:squarederror.\n",
      "[16:48:16] WARNING: src/objective/regression_obj.cu:152: reg:linear is now deprecated in favor of reg:squarederror.\n",
      "[16:48:19] WARNING: src/objective/regression_obj.cu:152: reg:linear is now deprecated in favor of reg:squarederror.\n",
      "[16:48:20] WARNING: src/objective/regression_obj.cu:152: reg:linear is now deprecated in favor of reg:squarederror.\n",
      "[16:48:22] WARNING: src/objective/regression_obj.cu:152: reg:linear is now deprecated in favor of reg:squarederror.\n",
      "[16:48:24] WARNING: src/objective/regression_obj.cu:152: reg:linear is now deprecated in favor of reg:squarederror.\n",
      "[16:48:28] WARNING: src/objective/regression_obj.cu:152: reg:linear is now deprecated in favor of reg:squarederror.\n",
      "[16:48:31] WARNING: src/objective/regression_obj.cu:152: reg:linear is now deprecated in favor of reg:squarederror.\n",
      "[16:48:35] WARNING: src/objective/regression_obj.cu:152: reg:linear is now deprecated in favor of reg:squarederror.\n",
      "[16:48:38] WARNING: src/objective/regression_obj.cu:152: reg:linear is now deprecated in favor of reg:squarederror.\n"
     ]
    },
    {
     "name": "stdout",
     "output_type": "stream",
     "text": [
      "[16:48:41] WARNING: src/objective/regression_obj.cu:152: reg:linear is now deprecated in favor of reg:squarederror.\n",
      "[16:48:48] WARNING: src/objective/regression_obj.cu:152: reg:linear is now deprecated in favor of reg:squarederror.\n",
      "[16:48:55] WARNING: src/objective/regression_obj.cu:152: reg:linear is now deprecated in favor of reg:squarederror.\n",
      "[16:49:02] WARNING: src/objective/regression_obj.cu:152: reg:linear is now deprecated in favor of reg:squarederror.\n",
      "[16:49:09] WARNING: src/objective/regression_obj.cu:152: reg:linear is now deprecated in favor of reg:squarederror.\n",
      "[16:49:17] WARNING: src/objective/regression_obj.cu:152: reg:linear is now deprecated in favor of reg:squarederror.\n",
      "[16:49:19] WARNING: src/objective/regression_obj.cu:152: reg:linear is now deprecated in favor of reg:squarederror.\n",
      "[16:49:21] WARNING: src/objective/regression_obj.cu:152: reg:linear is now deprecated in favor of reg:squarederror.\n",
      "[16:49:23] WARNING: src/objective/regression_obj.cu:152: reg:linear is now deprecated in favor of reg:squarederror.\n",
      "[16:49:25] WARNING: src/objective/regression_obj.cu:152: reg:linear is now deprecated in favor of reg:squarederror.\n",
      "[16:49:27] WARNING: src/objective/regression_obj.cu:152: reg:linear is now deprecated in favor of reg:squarederror.\n",
      "[16:49:30] WARNING: src/objective/regression_obj.cu:152: reg:linear is now deprecated in favor of reg:squarederror.\n",
      "[16:49:33] WARNING: src/objective/regression_obj.cu:152: reg:linear is now deprecated in favor of reg:squarederror.\n",
      "[16:49:37] WARNING: src/objective/regression_obj.cu:152: reg:linear is now deprecated in favor of reg:squarederror.\n",
      "[16:49:40] WARNING: src/objective/regression_obj.cu:152: reg:linear is now deprecated in favor of reg:squarederror.\n",
      "[16:49:43] WARNING: src/objective/regression_obj.cu:152: reg:linear is now deprecated in favor of reg:squarederror.\n",
      "[16:49:50] WARNING: src/objective/regression_obj.cu:152: reg:linear is now deprecated in favor of reg:squarederror.\n",
      "[16:49:58] WARNING: src/objective/regression_obj.cu:152: reg:linear is now deprecated in favor of reg:squarederror.\n",
      "[16:50:05] WARNING: src/objective/regression_obj.cu:152: reg:linear is now deprecated in favor of reg:squarederror.\n",
      "[16:50:12] WARNING: src/objective/regression_obj.cu:152: reg:linear is now deprecated in favor of reg:squarederror.\n",
      "[16:50:19] WARNING: src/objective/regression_obj.cu:152: reg:linear is now deprecated in favor of reg:squarederror.\n",
      "[16:50:23] WARNING: src/objective/regression_obj.cu:152: reg:linear is now deprecated in favor of reg:squarederror.\n",
      "[16:50:25] WARNING: src/objective/regression_obj.cu:152: reg:linear is now deprecated in favor of reg:squarederror.\n",
      "[16:50:27] WARNING: src/objective/regression_obj.cu:152: reg:linear is now deprecated in favor of reg:squarederror.\n",
      "[16:50:29] WARNING: src/objective/regression_obj.cu:152: reg:linear is now deprecated in favor of reg:squarederror.\n",
      "[16:50:31] WARNING: src/objective/regression_obj.cu:152: reg:linear is now deprecated in favor of reg:squarederror.\n",
      "[16:50:33] WARNING: src/objective/regression_obj.cu:152: reg:linear is now deprecated in favor of reg:squarederror.\n",
      "[16:50:37] WARNING: src/objective/regression_obj.cu:152: reg:linear is now deprecated in favor of reg:squarederror.\n",
      "[16:50:40] WARNING: src/objective/regression_obj.cu:152: reg:linear is now deprecated in favor of reg:squarederror.\n",
      "[16:50:43] WARNING: src/objective/regression_obj.cu:152: reg:linear is now deprecated in favor of reg:squarederror.\n",
      "[16:50:47] WARNING: src/objective/regression_obj.cu:152: reg:linear is now deprecated in favor of reg:squarederror.\n",
      "[16:50:50] WARNING: src/objective/regression_obj.cu:152: reg:linear is now deprecated in favor of reg:squarederror.\n",
      "[16:50:57] WARNING: src/objective/regression_obj.cu:152: reg:linear is now deprecated in favor of reg:squarederror.\n",
      "[16:51:04] WARNING: src/objective/regression_obj.cu:152: reg:linear is now deprecated in favor of reg:squarederror.\n",
      "[16:51:12] WARNING: src/objective/regression_obj.cu:152: reg:linear is now deprecated in favor of reg:squarederror.\n",
      "[16:51:19] WARNING: src/objective/regression_obj.cu:152: reg:linear is now deprecated in favor of reg:squarederror.\n",
      "[16:51:26] WARNING: src/objective/regression_obj.cu:152: reg:linear is now deprecated in favor of reg:squarederror.\n",
      "[16:51:28] WARNING: src/objective/regression_obj.cu:152: reg:linear is now deprecated in favor of reg:squarederror.\n",
      "[16:51:30] WARNING: src/objective/regression_obj.cu:152: reg:linear is now deprecated in favor of reg:squarederror.\n",
      "[16:51:32] WARNING: src/objective/regression_obj.cu:152: reg:linear is now deprecated in favor of reg:squarederror.\n",
      "[16:51:34] WARNING: src/objective/regression_obj.cu:152: reg:linear is now deprecated in favor of reg:squarederror.\n",
      "[16:51:37] WARNING: src/objective/regression_obj.cu:152: reg:linear is now deprecated in favor of reg:squarederror.\n",
      "[16:51:40] WARNING: src/objective/regression_obj.cu:152: reg:linear is now deprecated in favor of reg:squarederror.\n",
      "[16:51:43] WARNING: src/objective/regression_obj.cu:152: reg:linear is now deprecated in favor of reg:squarederror.\n",
      "[16:51:47] WARNING: src/objective/regression_obj.cu:152: reg:linear is now deprecated in favor of reg:squarederror.\n",
      "[16:51:50] WARNING: src/objective/regression_obj.cu:152: reg:linear is now deprecated in favor of reg:squarederror.\n",
      "[16:51:54] WARNING: src/objective/regression_obj.cu:152: reg:linear is now deprecated in favor of reg:squarederror.\n",
      "[16:52:01] WARNING: src/objective/regression_obj.cu:152: reg:linear is now deprecated in favor of reg:squarederror.\n",
      "[16:52:08] WARNING: src/objective/regression_obj.cu:152: reg:linear is now deprecated in favor of reg:squarederror.\n",
      "[16:52:15] WARNING: src/objective/regression_obj.cu:152: reg:linear is now deprecated in favor of reg:squarederror.\n",
      "[16:52:23] WARNING: src/objective/regression_obj.cu:152: reg:linear is now deprecated in favor of reg:squarederror.\n",
      "[16:52:30] WARNING: src/objective/regression_obj.cu:152: reg:linear is now deprecated in favor of reg:squarederror.\n",
      "[16:52:32] WARNING: src/objective/regression_obj.cu:152: reg:linear is now deprecated in favor of reg:squarederror.\n",
      "[16:52:34] WARNING: src/objective/regression_obj.cu:152: reg:linear is now deprecated in favor of reg:squarederror.\n",
      "[16:52:36] WARNING: src/objective/regression_obj.cu:152: reg:linear is now deprecated in favor of reg:squarederror.\n",
      "[16:52:38] WARNING: src/objective/regression_obj.cu:152: reg:linear is now deprecated in favor of reg:squarederror.\n",
      "[16:52:40] WARNING: src/objective/regression_obj.cu:152: reg:linear is now deprecated in favor of reg:squarederror.\n",
      "[16:52:44] WARNING: src/objective/regression_obj.cu:152: reg:linear is now deprecated in favor of reg:squarederror.\n",
      "[16:52:47] WARNING: src/objective/regression_obj.cu:152: reg:linear is now deprecated in favor of reg:squarederror.\n",
      "[16:52:51] WARNING: src/objective/regression_obj.cu:152: reg:linear is now deprecated in favor of reg:squarederror.\n",
      "[16:52:54] WARNING: src/objective/regression_obj.cu:152: reg:linear is now deprecated in favor of reg:squarederror.\n",
      "[16:52:57] WARNING: src/objective/regression_obj.cu:152: reg:linear is now deprecated in favor of reg:squarederror.\n",
      "[16:53:04] WARNING: src/objective/regression_obj.cu:152: reg:linear is now deprecated in favor of reg:squarederror.\n",
      "[16:53:12] WARNING: src/objective/regression_obj.cu:152: reg:linear is now deprecated in favor of reg:squarederror.\n",
      "[16:53:19] WARNING: src/objective/regression_obj.cu:152: reg:linear is now deprecated in favor of reg:squarederror.\n",
      "[16:53:26] WARNING: src/objective/regression_obj.cu:152: reg:linear is now deprecated in favor of reg:squarederror.\n",
      "[16:53:33] WARNING: src/objective/regression_obj.cu:152: reg:linear is now deprecated in favor of reg:squarederror.\n",
      "[16:53:38] WARNING: src/objective/regression_obj.cu:152: reg:linear is now deprecated in favor of reg:squarederror.\n",
      "[16:53:40] WARNING: src/objective/regression_obj.cu:152: reg:linear is now deprecated in favor of reg:squarederror.\n",
      "[16:53:42] WARNING: src/objective/regression_obj.cu:152: reg:linear is now deprecated in favor of reg:squarederror.\n",
      "[16:53:44] WARNING: src/objective/regression_obj.cu:152: reg:linear is now deprecated in favor of reg:squarederror.\n"
     ]
    },
    {
     "name": "stdout",
     "output_type": "stream",
     "text": [
      "[16:53:46] WARNING: src/objective/regression_obj.cu:152: reg:linear is now deprecated in favor of reg:squarederror.\n",
      "[16:53:48] WARNING: src/objective/regression_obj.cu:152: reg:linear is now deprecated in favor of reg:squarederror.\n",
      "[16:53:52] WARNING: src/objective/regression_obj.cu:152: reg:linear is now deprecated in favor of reg:squarederror.\n",
      "[16:53:55] WARNING: src/objective/regression_obj.cu:152: reg:linear is now deprecated in favor of reg:squarederror.\n",
      "[16:53:58] WARNING: src/objective/regression_obj.cu:152: reg:linear is now deprecated in favor of reg:squarederror.\n",
      "[16:54:02] WARNING: src/objective/regression_obj.cu:152: reg:linear is now deprecated in favor of reg:squarederror.\n",
      "[16:54:05] WARNING: src/objective/regression_obj.cu:152: reg:linear is now deprecated in favor of reg:squarederror.\n",
      "[16:54:12] WARNING: src/objective/regression_obj.cu:152: reg:linear is now deprecated in favor of reg:squarederror.\n",
      "[16:54:19] WARNING: src/objective/regression_obj.cu:152: reg:linear is now deprecated in favor of reg:squarederror.\n",
      "[16:54:27] WARNING: src/objective/regression_obj.cu:152: reg:linear is now deprecated in favor of reg:squarederror.\n",
      "[16:54:34] WARNING: src/objective/regression_obj.cu:152: reg:linear is now deprecated in favor of reg:squarederror.\n",
      "[16:54:41] WARNING: src/objective/regression_obj.cu:152: reg:linear is now deprecated in favor of reg:squarederror.\n",
      "[16:54:43] WARNING: src/objective/regression_obj.cu:152: reg:linear is now deprecated in favor of reg:squarederror.\n",
      "[16:54:45] WARNING: src/objective/regression_obj.cu:152: reg:linear is now deprecated in favor of reg:squarederror.\n",
      "[16:54:47] WARNING: src/objective/regression_obj.cu:152: reg:linear is now deprecated in favor of reg:squarederror.\n",
      "[16:54:49] WARNING: src/objective/regression_obj.cu:152: reg:linear is now deprecated in favor of reg:squarederror.\n",
      "[16:54:51] WARNING: src/objective/regression_obj.cu:152: reg:linear is now deprecated in favor of reg:squarederror.\n",
      "[16:54:55] WARNING: src/objective/regression_obj.cu:152: reg:linear is now deprecated in favor of reg:squarederror.\n",
      "[16:54:58] WARNING: src/objective/regression_obj.cu:152: reg:linear is now deprecated in favor of reg:squarederror.\n",
      "[16:55:01] WARNING: src/objective/regression_obj.cu:152: reg:linear is now deprecated in favor of reg:squarederror.\n",
      "[16:55:05] WARNING: src/objective/regression_obj.cu:152: reg:linear is now deprecated in favor of reg:squarederror.\n",
      "[16:55:08] WARNING: src/objective/regression_obj.cu:152: reg:linear is now deprecated in favor of reg:squarederror.\n",
      "[16:55:15] WARNING: src/objective/regression_obj.cu:152: reg:linear is now deprecated in favor of reg:squarederror.\n",
      "[16:55:22] WARNING: src/objective/regression_obj.cu:152: reg:linear is now deprecated in favor of reg:squarederror.\n",
      "[16:55:30] WARNING: src/objective/regression_obj.cu:152: reg:linear is now deprecated in favor of reg:squarederror.\n",
      "[16:55:37] WARNING: src/objective/regression_obj.cu:152: reg:linear is now deprecated in favor of reg:squarederror.\n",
      "[16:55:44] WARNING: src/objective/regression_obj.cu:152: reg:linear is now deprecated in favor of reg:squarederror.\n",
      "[16:55:46] WARNING: src/objective/regression_obj.cu:152: reg:linear is now deprecated in favor of reg:squarederror.\n",
      "[16:55:48] WARNING: src/objective/regression_obj.cu:152: reg:linear is now deprecated in favor of reg:squarederror.\n",
      "[16:55:50] WARNING: src/objective/regression_obj.cu:152: reg:linear is now deprecated in favor of reg:squarederror.\n",
      "[16:55:52] WARNING: src/objective/regression_obj.cu:152: reg:linear is now deprecated in favor of reg:squarederror.\n",
      "[16:55:54] WARNING: src/objective/regression_obj.cu:152: reg:linear is now deprecated in favor of reg:squarederror.\n",
      "[16:55:57] WARNING: src/objective/regression_obj.cu:152: reg:linear is now deprecated in favor of reg:squarederror.\n",
      "[16:56:00] WARNING: src/objective/regression_obj.cu:152: reg:linear is now deprecated in favor of reg:squarederror.\n",
      "[16:56:04] WARNING: src/objective/regression_obj.cu:152: reg:linear is now deprecated in favor of reg:squarederror.\n",
      "[16:56:07] WARNING: src/objective/regression_obj.cu:152: reg:linear is now deprecated in favor of reg:squarederror.\n",
      "[16:56:10] WARNING: src/objective/regression_obj.cu:152: reg:linear is now deprecated in favor of reg:squarederror.\n",
      "[16:56:17] WARNING: src/objective/regression_obj.cu:152: reg:linear is now deprecated in favor of reg:squarederror.\n",
      "[16:56:24] WARNING: src/objective/regression_obj.cu:152: reg:linear is now deprecated in favor of reg:squarederror.\n",
      "[16:56:31] WARNING: src/objective/regression_obj.cu:152: reg:linear is now deprecated in favor of reg:squarederror.\n",
      "[16:56:38] WARNING: src/objective/regression_obj.cu:152: reg:linear is now deprecated in favor of reg:squarederror.\n",
      "[16:56:44] WARNING: src/objective/regression_obj.cu:152: reg:linear is now deprecated in favor of reg:squarederror.\n"
     ]
    }
   ],
   "source": [
    "pred_val=pd.DataFrame(columns=['hhb','hbo2','ca','na'])\n",
    "pred_train=pd.DataFrame(columns=['hhb','hbo2','ca','na'])\n",
    "best_estimator=[]\n",
    "\n",
    "for i in ['hhb','hbo2','ca','na']:\n",
    "    g.fit(train_x,train_y[i])\n",
    "    best_estimator.append(g.best_estimator_)\n",
    "    g_best=g.best_estimator_\n",
    "    \n",
    "    pred_train_y=g_best.predict(train_x)\n",
    "    pred_val_y=g_best.predict(validation_x)\n",
    "    pred_val[i]=pred_val_y\n",
    "    pred_train[i]=pred_train_y"
   ]
  },
  {
   "cell_type": "code",
   "execution_count": 54,
   "metadata": {
    "colab": {
     "base_uri": "https://localhost:8080/",
     "height": 204
    },
    "colab_type": "code",
    "id": "iaT_iEjDkP9k",
    "outputId": "5db209c9-0a1e-452b-b92d-c66ea336b398"
   },
   "outputs": [
    {
     "name": "stdout",
     "output_type": "stream",
     "text": [
      "훈련 세트 성능  macro average mae 0.7793047605242952\n"
     ]
    },
    {
     "data": {
      "text/html": [
       "<div>\n",
       "<style scoped>\n",
       "    .dataframe tbody tr th:only-of-type {\n",
       "        vertical-align: middle;\n",
       "    }\n",
       "\n",
       "    .dataframe tbody tr th {\n",
       "        vertical-align: top;\n",
       "    }\n",
       "\n",
       "    .dataframe thead th {\n",
       "        text-align: right;\n",
       "    }\n",
       "</style>\n",
       "<table border=\"1\" class=\"dataframe\">\n",
       "  <thead>\n",
       "    <tr style=\"text-align: right;\">\n",
       "      <th></th>\n",
       "      <th>hhb</th>\n",
       "      <th>hbo2</th>\n",
       "      <th>ca</th>\n",
       "      <th>na</th>\n",
       "    </tr>\n",
       "  </thead>\n",
       "  <tbody>\n",
       "    <tr>\n",
       "      <th>mae</th>\n",
       "      <td>0.404765</td>\n",
       "      <td>0.601753</td>\n",
       "      <td>1.769632</td>\n",
       "      <td>0.341069</td>\n",
       "    </tr>\n",
       "    <tr>\n",
       "      <th>mean</th>\n",
       "      <td>7.920770</td>\n",
       "      <td>3.998320</td>\n",
       "      <td>8.953760</td>\n",
       "      <td>3.067830</td>\n",
       "    </tr>\n",
       "    <tr>\n",
       "      <th>std</th>\n",
       "      <td>3.015091</td>\n",
       "      <td>1.002869</td>\n",
       "      <td>3.107924</td>\n",
       "      <td>1.833294</td>\n",
       "    </tr>\n",
       "    <tr>\n",
       "      <th>per</th>\n",
       "      <td>5.110171</td>\n",
       "      <td>15.050150</td>\n",
       "      <td>19.764121</td>\n",
       "      <td>11.117599</td>\n",
       "    </tr>\n",
       "  </tbody>\n",
       "</table>\n",
       "</div>"
      ],
      "text/plain": [
       "           hhb       hbo2         ca         na\n",
       "mae   0.404765   0.601753   1.769632   0.341069\n",
       "mean  7.920770   3.998320   8.953760   3.067830\n",
       "std   3.015091   1.002869   3.107924   1.833294\n",
       "per   5.110171  15.050150  19.764121  11.117599"
      ]
     },
     "execution_count": 54,
     "metadata": {},
     "output_type": "execute_result"
    }
   ],
   "source": [
    "macro, raw = macro_average_mae(train_y,pred_train)\n",
    "print(\"훈련 세트 성능 \", \"macro average mae\",macro)\n",
    "raw_summary=pd.DataFrame(raw,index=['hhb','hbo2','ca','na']).T\n",
    "raw_summary=raw_summary.append(validation_y.mean(),ignore_index=True)\n",
    "raw_summary=raw_summary.append(validation_y.std(),ignore_index=True)\n",
    "per=raw_summary.iloc[0,:]/raw_summary.iloc[1,:]*100\n",
    "raw_summary=raw_summary.append(per,ignore_index=True)\n",
    "raw_summary.index=['mae','mean','std','per']\n",
    "raw_summary"
   ]
  },
  {
   "cell_type": "code",
   "execution_count": 56,
   "metadata": {
    "colab": {
     "base_uri": "https://localhost:8080/",
     "height": 204
    },
    "colab_type": "code",
    "id": "87ovbKzEDdNP",
    "outputId": "21a678a6-4b36-492a-8ce2-8222c715b37b"
   },
   "outputs": [
    {
     "name": "stdout",
     "output_type": "stream",
     "text": [
      "검증 세트 성능  macro average mae 1.529477260091305\n"
     ]
    },
    {
     "data": {
      "text/html": [
       "<div>\n",
       "<style scoped>\n",
       "    .dataframe tbody tr th:only-of-type {\n",
       "        vertical-align: middle;\n",
       "    }\n",
       "\n",
       "    .dataframe tbody tr th {\n",
       "        vertical-align: top;\n",
       "    }\n",
       "\n",
       "    .dataframe thead th {\n",
       "        text-align: right;\n",
       "    }\n",
       "</style>\n",
       "<table border=\"1\" class=\"dataframe\">\n",
       "  <thead>\n",
       "    <tr style=\"text-align: right;\">\n",
       "      <th></th>\n",
       "      <th>hhb</th>\n",
       "      <th>hbo2</th>\n",
       "      <th>ca</th>\n",
       "      <th>na</th>\n",
       "    </tr>\n",
       "  </thead>\n",
       "  <tbody>\n",
       "    <tr>\n",
       "      <th>mae</th>\n",
       "      <td>1.693192</td>\n",
       "      <td>0.768026</td>\n",
       "      <td>2.306941</td>\n",
       "      <td>1.349750</td>\n",
       "    </tr>\n",
       "    <tr>\n",
       "      <th>mean</th>\n",
       "      <td>7.920770</td>\n",
       "      <td>3.998320</td>\n",
       "      <td>8.953760</td>\n",
       "      <td>3.067830</td>\n",
       "    </tr>\n",
       "    <tr>\n",
       "      <th>std</th>\n",
       "      <td>3.015091</td>\n",
       "      <td>1.002869</td>\n",
       "      <td>3.107924</td>\n",
       "      <td>1.833294</td>\n",
       "    </tr>\n",
       "    <tr>\n",
       "      <th>per</th>\n",
       "      <td>21.376612</td>\n",
       "      <td>19.208726</td>\n",
       "      <td>25.765050</td>\n",
       "      <td>43.996886</td>\n",
       "    </tr>\n",
       "  </tbody>\n",
       "</table>\n",
       "</div>"
      ],
      "text/plain": [
       "            hhb       hbo2         ca         na\n",
       "mae    1.693192   0.768026   2.306941   1.349750\n",
       "mean   7.920770   3.998320   8.953760   3.067830\n",
       "std    3.015091   1.002869   3.107924   1.833294\n",
       "per   21.376612  19.208726  25.765050  43.996886"
      ]
     },
     "execution_count": 56,
     "metadata": {},
     "output_type": "execute_result"
    }
   ],
   "source": [
    "macro, raw = macro_average_mae(validation_y,pred_val)\n",
    "print(\"검증 세트 성능 \", \"macro average mae\",macro)\n",
    "raw_summary=pd.DataFrame(raw,index=['hhb','hbo2','ca','na']).T\n",
    "raw_summary=raw_summary.append(validation_y.mean(),ignore_index=True)\n",
    "raw_summary=raw_summary.append(validation_y.std(),ignore_index=True)\n",
    "per=raw_summary.iloc[0,:]/raw_summary.iloc[1,:]*100\n",
    "raw_summary3=raw_summary.append(per,ignore_index=True)\n",
    "raw_summary3.index=['mae','mean','std','per']\n",
    "raw_summary3"
   ]
  },
  {
   "cell_type": "markdown",
   "metadata": {},
   "source": [
    "## DNN"
   ]
  },
  {
   "cell_type": "code",
   "execution_count": 19,
   "metadata": {},
   "outputs": [],
   "source": [
    "from tensorflow import keras"
   ]
  },
  {
   "cell_type": "code",
   "execution_count": 20,
   "metadata": {},
   "outputs": [],
   "source": [
    "import tensorflow as tf\n",
    "keras.backend.clear_session()\n",
    "np.random.seed(42)\n",
    "tf.random.set_seed(42)"
   ]
  },
  {
   "cell_type": "code",
   "execution_count": 21,
   "metadata": {},
   "outputs": [],
   "source": [
    "def build_model(n_hidden=1, n_neurons=30, learning_rate=3e-3, input_shape=[35]):\n",
    "    model = keras.models.Sequential()\n",
    "    model.add(keras.layers.InputLayer(input_shape=input_shape))\n",
    "    for layer in range(n_hidden):\n",
    "        model.add(keras.layers.Dense(n_neurons, activation=\"relu\"))\n",
    "    model.add(keras.layers.Dense(4))\n",
    "    optimizer = keras.optimizers.SGD(lr=learning_rate)\n",
    "    model.compile(loss=\"mse\", optimizer=optimizer)\n",
    "    return model"
   ]
  },
  {
   "cell_type": "code",
   "execution_count": 23,
   "metadata": {},
   "outputs": [],
   "source": [
    "keras_reg = keras.wrappers.scikit_learn.KerasRegressor(build_model)"
   ]
  },
  {
   "cell_type": "code",
   "execution_count": 395,
   "metadata": {},
   "outputs": [
    {
     "name": "stdout",
     "output_type": "stream",
     "text": [
      "Train on 10000 samples, validate on 1000 samples\n",
      "Epoch 1/100\n",
      "10000/10000 [==============================] - 1s 60us/sample - loss: 6.9586 - val_loss: 6.2883\n",
      "Epoch 2/100\n",
      "10000/10000 [==============================] - 0s 32us/sample - loss: 5.9457 - val_loss: 6.0878\n",
      "Epoch 3/100\n",
      "10000/10000 [==============================] - 0s 31us/sample - loss: 5.7796 - val_loss: 5.8985\n",
      "Epoch 4/100\n",
      "10000/10000 [==============================] - 0s 32us/sample - loss: 5.7180 - val_loss: 5.9639\n",
      "Epoch 5/100\n",
      "10000/10000 [==============================] - 0s 32us/sample - loss: 5.6739 - val_loss: 5.9388\n",
      "Epoch 6/100\n",
      "10000/10000 [==============================] - 0s 31us/sample - loss: 5.6537 - val_loss: 5.8084\n",
      "Epoch 7/100\n",
      "10000/10000 [==============================] - 0s 32us/sample - loss: 5.6318 - val_loss: 5.9215\n",
      "Epoch 8/100\n",
      "10000/10000 [==============================] - 0s 32us/sample - loss: 5.6124 - val_loss: 5.7822\n",
      "Epoch 9/100\n",
      "10000/10000 [==============================] - 0s 33us/sample - loss: 5.5936 - val_loss: 5.9456\n",
      "Epoch 10/100\n",
      "10000/10000 [==============================] - 0s 39us/sample - loss: 5.5732 - val_loss: 5.8274\n",
      "Epoch 11/100\n",
      "10000/10000 [==============================] - 0s 34us/sample - loss: 5.5681 - val_loss: 5.7373\n",
      "Epoch 12/100\n",
      "10000/10000 [==============================] - 0s 32us/sample - loss: 5.5634 - val_loss: 5.8383\n",
      "Epoch 13/100\n",
      "10000/10000 [==============================] - 0s 33us/sample - loss: 5.5539 - val_loss: 5.7860\n",
      "Epoch 14/100\n",
      "10000/10000 [==============================] - 0s 32us/sample - loss: 5.5396 - val_loss: 5.7378\n",
      "Epoch 15/100\n",
      "10000/10000 [==============================] - 0s 32us/sample - loss: 5.5276 - val_loss: 5.7244\n",
      "Epoch 16/100\n",
      "10000/10000 [==============================] - 0s 32us/sample - loss: 5.5127 - val_loss: 5.6992\n",
      "Epoch 17/100\n",
      "10000/10000 [==============================] - 0s 32us/sample - loss: 5.5075 - val_loss: 5.7165\n",
      "Epoch 18/100\n",
      "10000/10000 [==============================] - 0s 32us/sample - loss: 5.4989 - val_loss: 5.7386\n",
      "Epoch 19/100\n",
      "10000/10000 [==============================] - 0s 32us/sample - loss: 5.5011 - val_loss: 5.6908\n",
      "Epoch 20/100\n",
      "10000/10000 [==============================] - 0s 32us/sample - loss: 5.4931 - val_loss: 5.6758\n",
      "Epoch 21/100\n",
      "10000/10000 [==============================] - 0s 32us/sample - loss: 5.4916 - val_loss: 5.8236\n",
      "Epoch 22/100\n",
      "10000/10000 [==============================] - 0s 33us/sample - loss: 5.4729 - val_loss: 5.6534\n",
      "Epoch 23/100\n",
      "10000/10000 [==============================] - 0s 34us/sample - loss: 5.4707 - val_loss: 5.6506\n",
      "Epoch 24/100\n",
      "10000/10000 [==============================] - 0s 32us/sample - loss: 5.4716 - val_loss: 5.6806\n",
      "Epoch 25/100\n",
      "10000/10000 [==============================] - 0s 32us/sample - loss: 5.4576 - val_loss: 5.6938\n",
      "Epoch 26/100\n",
      "10000/10000 [==============================] - 0s 32us/sample - loss: 5.4605 - val_loss: 5.6339\n",
      "Epoch 27/100\n",
      "10000/10000 [==============================] - 0s 32us/sample - loss: 5.4498 - val_loss: 6.0260\n",
      "Epoch 28/100\n",
      "10000/10000 [==============================] - 0s 32us/sample - loss: 5.4431 - val_loss: 5.6208\n",
      "Epoch 29/100\n",
      "10000/10000 [==============================] - 0s 32us/sample - loss: 5.4316 - val_loss: 5.7115\n",
      "Epoch 30/100\n",
      "10000/10000 [==============================] - 0s 32us/sample - loss: 5.4380 - val_loss: 5.6748\n",
      "Epoch 31/100\n",
      "10000/10000 [==============================] - 0s 32us/sample - loss: 5.4309 - val_loss: 5.7085\n",
      "Epoch 32/100\n",
      "10000/10000 [==============================] - 0s 32us/sample - loss: 5.4218 - val_loss: 5.8370\n",
      "Epoch 33/100\n",
      "10000/10000 [==============================] - 0s 32us/sample - loss: 5.4327 - val_loss: 5.6096\n",
      "Epoch 34/100\n",
      "10000/10000 [==============================] - 0s 32us/sample - loss: 5.4176 - val_loss: 5.6240\n",
      "Epoch 35/100\n",
      "10000/10000 [==============================] - 0s 33us/sample - loss: 5.4121 - val_loss: 5.6543\n",
      "Epoch 36/100\n",
      "10000/10000 [==============================] - 0s 32us/sample - loss: 5.4174 - val_loss: 5.6789\n",
      "Epoch 37/100\n",
      "10000/10000 [==============================] - 0s 33us/sample - loss: 5.4058 - val_loss: 5.5808\n",
      "Epoch 38/100\n",
      "10000/10000 [==============================] - 0s 37us/sample - loss: 5.4008 - val_loss: 5.5792\n",
      "Epoch 39/100\n",
      "10000/10000 [==============================] - 0s 33us/sample - loss: 5.4018 - val_loss: 5.6160\n",
      "Epoch 40/100\n",
      "10000/10000 [==============================] - 0s 32us/sample - loss: 5.3974 - val_loss: 5.5909\n",
      "Epoch 41/100\n",
      "10000/10000 [==============================] - 0s 32us/sample - loss: 5.3813 - val_loss: 5.5726\n",
      "Epoch 42/100\n",
      "10000/10000 [==============================] - 0s 32us/sample - loss: 5.4020 - val_loss: 5.6055\n",
      "Epoch 43/100\n",
      "10000/10000 [==============================] - 0s 32us/sample - loss: 5.3931 - val_loss: 5.6559\n",
      "Epoch 44/100\n",
      "10000/10000 [==============================] - 0s 32us/sample - loss: 5.3822 - val_loss: 5.6156\n",
      "Epoch 45/100\n",
      "10000/10000 [==============================] - 0s 32us/sample - loss: 5.3777 - val_loss: 5.5810\n",
      "Epoch 46/100\n",
      "10000/10000 [==============================] - 0s 32us/sample - loss: 5.3742 - val_loss: 5.5571\n",
      "Epoch 47/100\n",
      "10000/10000 [==============================] - 0s 32us/sample - loss: 5.3753 - val_loss: 5.5487\n",
      "Epoch 48/100\n",
      "10000/10000 [==============================] - 0s 33us/sample - loss: 5.3702 - val_loss: 5.6080\n",
      "Epoch 49/100\n",
      "10000/10000 [==============================] - 0s 33us/sample - loss: 5.3692 - val_loss: 5.5966\n",
      "Epoch 50/100\n",
      "10000/10000 [==============================] - 0s 33us/sample - loss: 5.3610 - val_loss: 5.6076\n",
      "Epoch 51/100\n",
      "10000/10000 [==============================] - 0s 33us/sample - loss: 5.3609 - val_loss: 5.5630\n",
      "Epoch 52/100\n",
      "10000/10000 [==============================] - 0s 38us/sample - loss: 5.3636 - val_loss: 5.6306\n",
      "Epoch 53/100\n",
      "10000/10000 [==============================] - 1s 55us/sample - loss: 5.3569 - val_loss: 5.5491\n",
      "Epoch 54/100\n",
      "10000/10000 [==============================] - 1s 71us/sample - loss: 5.3485 - val_loss: 5.9266\n",
      "Epoch 55/100\n",
      "10000/10000 [==============================] - 1s 76us/sample - loss: 5.3531 - val_loss: 5.5297\n",
      "Epoch 56/100\n",
      "10000/10000 [==============================] - 1s 73us/sample - loss: 5.3617 - val_loss: 5.8949\n",
      "Epoch 57/100\n",
      "10000/10000 [==============================] - 1s 78us/sample - loss: 5.3403 - val_loss: 5.5344\n",
      "Epoch 58/100\n",
      "10000/10000 [==============================] - 1s 58us/sample - loss: 5.3392 - val_loss: 5.5290\n",
      "Epoch 59/100\n",
      "10000/10000 [==============================] - 0s 41us/sample - loss: 5.3370 - val_loss: 5.5745\n",
      "Epoch 60/100\n",
      "10000/10000 [==============================] - 0s 33us/sample - loss: 5.3389 - val_loss: 5.5491\n",
      "Epoch 61/100\n",
      "10000/10000 [==============================] - 0s 33us/sample - loss: 5.3354 - val_loss: 5.6395\n",
      "Epoch 62/100\n",
      "10000/10000 [==============================] - 0s 34us/sample - loss: 5.3401 - val_loss: 5.6566\n",
      "Epoch 63/100\n",
      "10000/10000 [==============================] - 0s 34us/sample - loss: 5.3381 - val_loss: 5.5607\n",
      "Epoch 64/100\n",
      "10000/10000 [==============================] - 0s 34us/sample - loss: 5.3330 - val_loss: 5.5431\n",
      "Epoch 65/100\n",
      "10000/10000 [==============================] - 0s 34us/sample - loss: 5.3250 - val_loss: 5.7469\n",
      "Epoch 66/100\n",
      "10000/10000 [==============================] - 0s 33us/sample - loss: 5.3260 - val_loss: 5.5232\n",
      "Epoch 67/100\n",
      "10000/10000 [==============================] - 0s 33us/sample - loss: 5.3199 - val_loss: 5.5432\n",
      "Epoch 68/100\n",
      "10000/10000 [==============================] - 0s 32us/sample - loss: 5.3229 - val_loss: 5.5104\n",
      "Epoch 69/100\n",
      "10000/10000 [==============================] - 0s 32us/sample - loss: 5.3126 - val_loss: 5.5152\n",
      "Epoch 70/100\n",
      "10000/10000 [==============================] - 0s 33us/sample - loss: 5.3090 - val_loss: 5.5102\n",
      "Epoch 71/100\n",
      "10000/10000 [==============================] - 0s 38us/sample - loss: 5.3101 - val_loss: 5.4918\n",
      "Epoch 72/100\n",
      "10000/10000 [==============================] - 0s 48us/sample - loss: 5.3189 - val_loss: 5.4996\n",
      "Epoch 73/100\n",
      "10000/10000 [==============================] - 0s 36us/sample - loss: 5.3098 - val_loss: 5.5646\n",
      "Epoch 74/100\n",
      "10000/10000 [==============================] - 0s 39us/sample - loss: 5.3042 - val_loss: 5.5548\n",
      "Epoch 75/100\n",
      "10000/10000 [==============================] - 0s 37us/sample - loss: 5.3008 - val_loss: 5.5190\n"
     ]
    },
    {
     "name": "stdout",
     "output_type": "stream",
     "text": [
      "Epoch 76/100\n",
      "10000/10000 [==============================] - 0s 35us/sample - loss: 5.3045 - val_loss: 5.5125\n",
      "Epoch 77/100\n",
      "10000/10000 [==============================] - 1s 57us/sample - loss: 5.3027 - val_loss: 5.5431\n",
      "Epoch 78/100\n",
      "10000/10000 [==============================] - 0s 37us/sample - loss: 5.3003 - val_loss: 5.5325\n",
      "Epoch 79/100\n",
      "10000/10000 [==============================] - 0s 43us/sample - loss: 5.2951 - val_loss: 5.4849\n",
      "Epoch 80/100\n",
      "10000/10000 [==============================] - 0s 37us/sample - loss: 5.2905 - val_loss: 5.5026\n",
      "Epoch 81/100\n",
      "10000/10000 [==============================] - 0s 36us/sample - loss: 5.2978 - val_loss: 5.5519\n",
      "Epoch 82/100\n",
      "10000/10000 [==============================] - 0s 40us/sample - loss: 5.2959 - val_loss: 5.5164\n",
      "Epoch 83/100\n",
      "10000/10000 [==============================] - 0s 35us/sample - loss: 5.2958 - val_loss: 5.5856\n",
      "Epoch 84/100\n",
      "10000/10000 [==============================] - 0s 33us/sample - loss: 5.2884 - val_loss: 5.7643\n",
      "Epoch 85/100\n",
      "10000/10000 [==============================] - 0s 34us/sample - loss: 5.2961 - val_loss: 5.5363\n",
      "Epoch 86/100\n",
      "10000/10000 [==============================] - 1s 66us/sample - loss: 5.2835 - val_loss: 5.5109\n",
      "Epoch 87/100\n",
      "10000/10000 [==============================] - 0s 42us/sample - loss: 5.2761 - val_loss: 5.5088\n",
      "Epoch 88/100\n",
      "10000/10000 [==============================] - 0s 32us/sample - loss: 5.2822 - val_loss: 5.5463\n",
      "Epoch 89/100\n",
      "10000/10000 [==============================] - 0s 32us/sample - loss: 5.2742 - val_loss: 5.6572\n"
     ]
    },
    {
     "data": {
      "text/plain": [
       "GridSearchCV(cv=5,\n",
       "             estimator=<tensorflow.python.keras.wrappers.scikit_learn.KerasRegressor object at 0x000001ECBAF79288>,\n",
       "             n_jobs=-1,\n",
       "             param_grid={'n_hidden': [1, 2, 3], 'n_neurons': [20, 40, 60, 100]})"
      ]
     },
     "execution_count": 395,
     "metadata": {},
     "output_type": "execute_result"
    }
   ],
   "source": [
    "from sklearn.model_selection import GridSearchCV\n",
    "\n",
    "param_distribs = {\"n_hidden\": [1, 2, 3],\"n_neurons\": [20,40,60,100]}\n",
    "\n",
    "grid_search = GridSearchCV(estimator = keras_reg, param_grid = param_distribs, cv=5, n_jobs=-1)\n",
    "grid_search.fit(ab,train.loc[:,'hhb':'na'],epochs=100,\n",
    "               validation_data=(validation_x, validation_y),\n",
    "               callbacks=[keras.callbacks.EarlyStopping(patience=10)])"
   ]
  },
  {
   "cell_type": "code",
   "execution_count": 396,
   "metadata": {},
   "outputs": [
    {
     "data": {
      "text/plain": [
       "{'n_hidden': 2, 'n_neurons': 40}"
      ]
     },
     "execution_count": 396,
     "metadata": {},
     "output_type": "execute_result"
    }
   ],
   "source": [
    "grid_search.best_params_"
   ]
  },
  {
   "cell_type": "code",
   "execution_count": 397,
   "metadata": {},
   "outputs": [],
   "source": [
    "best=grid_search.best_estimator_"
   ]
  },
  {
   "cell_type": "markdown",
   "metadata": {},
   "source": [
    "#### validation_score"
   ]
  },
  {
   "cell_type": "code",
   "execution_count": 398,
   "metadata": {},
   "outputs": [],
   "source": [
    "pred_train=best.predict(train_x)\n",
    "pred_val=best.predict(validation_x)"
   ]
  },
  {
   "cell_type": "code",
   "execution_count": 399,
   "metadata": {},
   "outputs": [
    {
     "name": "stdout",
     "output_type": "stream",
     "text": [
      "훈련 세트 성능  macro average mae 1.750213414144814\n"
     ]
    },
    {
     "data": {
      "text/html": [
       "<div>\n",
       "<style scoped>\n",
       "    .dataframe tbody tr th:only-of-type {\n",
       "        vertical-align: middle;\n",
       "    }\n",
       "\n",
       "    .dataframe tbody tr th {\n",
       "        vertical-align: top;\n",
       "    }\n",
       "\n",
       "    .dataframe thead th {\n",
       "        text-align: right;\n",
       "    }\n",
       "</style>\n",
       "<table border=\"1\" class=\"dataframe\">\n",
       "  <thead>\n",
       "    <tr style=\"text-align: right;\">\n",
       "      <th></th>\n",
       "      <th>hhb</th>\n",
       "      <th>hbo2</th>\n",
       "      <th>ca</th>\n",
       "      <th>na</th>\n",
       "    </tr>\n",
       "  </thead>\n",
       "  <tbody>\n",
       "    <tr>\n",
       "      <th>mae</th>\n",
       "      <td>2.279991</td>\n",
       "      <td>0.801341</td>\n",
       "      <td>2.392250</td>\n",
       "      <td>1.527272</td>\n",
       "    </tr>\n",
       "    <tr>\n",
       "      <th>mean</th>\n",
       "      <td>7.920770</td>\n",
       "      <td>3.998320</td>\n",
       "      <td>8.953760</td>\n",
       "      <td>3.067830</td>\n",
       "    </tr>\n",
       "    <tr>\n",
       "      <th>std</th>\n",
       "      <td>3.015091</td>\n",
       "      <td>1.002869</td>\n",
       "      <td>3.107924</td>\n",
       "      <td>1.833294</td>\n",
       "    </tr>\n",
       "    <tr>\n",
       "      <th>per</th>\n",
       "      <td>28.784970</td>\n",
       "      <td>20.041935</td>\n",
       "      <td>26.717826</td>\n",
       "      <td>49.783451</td>\n",
       "    </tr>\n",
       "  </tbody>\n",
       "</table>\n",
       "</div>"
      ],
      "text/plain": [
       "            hhb       hbo2         ca         na\n",
       "mae    2.279991   0.801341   2.392250   1.527272\n",
       "mean   7.920770   3.998320   8.953760   3.067830\n",
       "std    3.015091   1.002869   3.107924   1.833294\n",
       "per   28.784970  20.041935  26.717826  49.783451"
      ]
     },
     "execution_count": 399,
     "metadata": {},
     "output_type": "execute_result"
    }
   ],
   "source": [
    "pred_train=pd.DataFrame(pred_train,columns=['hhb','hbo2','ca','na'])\n",
    "pred_val=pd.DataFrame(pred_val,columns=['hhb','hbo2','ca','na'])\n",
    "\n",
    "macro, raw = macro_average_mae(train_y,pred_train)\n",
    "print(\"훈련 세트 성능 \", \"macro average mae\",macro)\n",
    "\n",
    "raw_summary=pd.DataFrame(raw,index=['hhb','hbo2','ca','na']).T\n",
    "raw_summary=raw_summary.append(validation_y.mean(),ignore_index=True)\n",
    "raw_summary=raw_summary.append(validation_y.std(),ignore_index=True)\n",
    "per=raw_summary.iloc[0,:]/raw_summary.iloc[1,:]*100\n",
    "raw_summary=raw_summary.append(per,ignore_index=True)\n",
    "raw_summary.index=['mae','mean','std','per']\n",
    "raw_summary"
   ]
  },
  {
   "cell_type": "code",
   "execution_count": 418,
   "metadata": {},
   "outputs": [
    {
     "name": "stdout",
     "output_type": "stream",
     "text": [
      "검증 세트 성능  macro average mae 1.7769250727462764\n"
     ]
    },
    {
     "data": {
      "text/html": [
       "<div>\n",
       "<style scoped>\n",
       "    .dataframe tbody tr th:only-of-type {\n",
       "        vertical-align: middle;\n",
       "    }\n",
       "\n",
       "    .dataframe tbody tr th {\n",
       "        vertical-align: top;\n",
       "    }\n",
       "\n",
       "    .dataframe thead th {\n",
       "        text-align: right;\n",
       "    }\n",
       "</style>\n",
       "<table border=\"1\" class=\"dataframe\">\n",
       "  <thead>\n",
       "    <tr style=\"text-align: right;\">\n",
       "      <th></th>\n",
       "      <th>hhb</th>\n",
       "      <th>hbo2</th>\n",
       "      <th>ca</th>\n",
       "      <th>na</th>\n",
       "    </tr>\n",
       "  </thead>\n",
       "  <tbody>\n",
       "    <tr>\n",
       "      <th>mae</th>\n",
       "      <td>2.336121</td>\n",
       "      <td>0.821846</td>\n",
       "      <td>2.497793</td>\n",
       "      <td>1.451940</td>\n",
       "    </tr>\n",
       "    <tr>\n",
       "      <th>mean</th>\n",
       "      <td>7.920770</td>\n",
       "      <td>3.998320</td>\n",
       "      <td>8.953760</td>\n",
       "      <td>3.067830</td>\n",
       "    </tr>\n",
       "    <tr>\n",
       "      <th>std</th>\n",
       "      <td>3.015091</td>\n",
       "      <td>1.002869</td>\n",
       "      <td>3.107924</td>\n",
       "      <td>1.833294</td>\n",
       "    </tr>\n",
       "    <tr>\n",
       "      <th>per</th>\n",
       "      <td>29.493607</td>\n",
       "      <td>20.554791</td>\n",
       "      <td>27.896584</td>\n",
       "      <td>47.327916</td>\n",
       "    </tr>\n",
       "  </tbody>\n",
       "</table>\n",
       "</div>"
      ],
      "text/plain": [
       "            hhb       hbo2         ca         na\n",
       "mae    2.336121   0.821846   2.497793   1.451940\n",
       "mean   7.920770   3.998320   8.953760   3.067830\n",
       "std    3.015091   1.002869   3.107924   1.833294\n",
       "per   29.493607  20.554791  27.896584  47.327916"
      ]
     },
     "execution_count": 418,
     "metadata": {},
     "output_type": "execute_result"
    }
   ],
   "source": [
    "macro, raw = macro_average_mae(validation_y,pred_val)\n",
    "print(\"검증 세트 성능 \", \"macro average mae\",macro)\n",
    "raw_summary=pd.DataFrame(raw,index=['hhb','hbo2','ca','na']).T\n",
    "raw_summary=raw_summary.append(validation_y.mean(),ignore_index=True)\n",
    "raw_summary=raw_summary.append(validation_y.std(),ignore_index=True)\n",
    "per=raw_summary.iloc[0,:]/raw_summary.iloc[1,:]*100\n",
    "raw_summary4=raw_summary.append(per,ignore_index=True)\n",
    "raw_summary4.index=['mae','mean','std','per']\n",
    "raw_summary4"
   ]
  },
  {
   "cell_type": "markdown",
   "metadata": {},
   "source": [
    "# 5. 최종 모형 평가"
   ]
  },
  {
   "cell_type": "code",
   "execution_count": 401,
   "metadata": {},
   "outputs": [],
   "source": [
    "import matplotlib.pyplot as plt"
   ]
  },
  {
   "cell_type": "code",
   "execution_count": 57,
   "metadata": {},
   "outputs": [],
   "source": [
    "dic={'linear Regression' : 1.7872267406463735,\n",
    "'Random forest' : 1.622345250686469,\n",
    "'Xgboost' : 1.529477260091305,\n",
    "'Dnn' : 1.7769250727462764}"
   ]
  },
  {
   "cell_type": "code",
   "execution_count": 58,
   "metadata": {},
   "outputs": [
    {
     "data": {
      "text/plain": [
       "Text(0.5, 1.0, 'Model Evaluation')"
      ]
     },
     "execution_count": 58,
     "metadata": {},
     "output_type": "execute_result"
    },
    {
     "data": {
      "image/png": "[encoded data removed]",
      "text/plain": [
       "<Figure size 1080x720 with 1 Axes>"
      ]
     },
     "metadata": {
      "needs_background": "light"
     },
     "output_type": "display_data"
    }
   ],
   "source": [
    "plt=pd.DataFrame(dic,index=['mae']).T.plot(kind='line',figsize=(15,10))\n",
    "plt.set_xlabel('Models',fontsize=20)\n",
    "plt.set_ylabel('MAE',fontsize=20)\n",
    "plt.text(1.7,1.7,\"XGBOOST!\", fontsize=30, color=\"red\")\n",
    "plt.set_title('Model Evaluation', fontsize=20)"
   ]
  },
  {
   "attachments": {},
   "cell_type": "markdown",
   "metadata": {},
   "source": [
    "### 일반화 성능 추정 (테스트 세트)\n",
    "\n",
    "     최종 선정된 Xgboost의 Best estimator의 일반화 성능 추정.\n",
    "    Train과 valdation을 합쳐서 Fit한 후 Test set을 predict함"
   ]
  },
  {
   "cell_type": "code",
   "execution_count": 67,
   "metadata": {},
   "outputs": [
    {
     "name": "stdout",
     "output_type": "stream",
     "text": [
      "[17:12:57] WARNING: src/objective/regression_obj.cu:152: reg:linear is now deprecated in favor of reg:squarederror.\n",
      "[17:13:06] WARNING: src/objective/regression_obj.cu:152: reg:linear is now deprecated in favor of reg:squarederror.\n",
      "[17:13:11] WARNING: src/objective/regression_obj.cu:152: reg:linear is now deprecated in favor of reg:squarederror.\n",
      "[17:13:16] WARNING: src/objective/regression_obj.cu:152: reg:linear is now deprecated in favor of reg:squarederror.\n",
      "테스트 세트 성능  macro average mae 1.5112290833711624\n"
     ]
    },
    {
     "data": {
      "text/html": [
       "<div>\n",
       "<style scoped>\n",
       "    .dataframe tbody tr th:only-of-type {\n",
       "        vertical-align: middle;\n",
       "    }\n",
       "\n",
       "    .dataframe tbody tr th {\n",
       "        vertical-align: top;\n",
       "    }\n",
       "\n",
       "    .dataframe thead th {\n",
       "        text-align: right;\n",
       "    }\n",
       "</style>\n",
       "<table border=\"1\" class=\"dataframe\">\n",
       "  <thead>\n",
       "    <tr style=\"text-align: right;\">\n",
       "      <th></th>\n",
       "      <th>hhb</th>\n",
       "      <th>hbo2</th>\n",
       "      <th>ca</th>\n",
       "      <th>na</th>\n",
       "    </tr>\n",
       "  </thead>\n",
       "  <tbody>\n",
       "    <tr>\n",
       "      <th>mae</th>\n",
       "      <td>1.662965</td>\n",
       "      <td>0.760148</td>\n",
       "      <td>2.231926</td>\n",
       "      <td>1.389877</td>\n",
       "    </tr>\n",
       "    <tr>\n",
       "      <th>mean</th>\n",
       "      <td>7.920770</td>\n",
       "      <td>3.998320</td>\n",
       "      <td>8.953760</td>\n",
       "      <td>3.067830</td>\n",
       "    </tr>\n",
       "    <tr>\n",
       "      <th>std</th>\n",
       "      <td>3.015091</td>\n",
       "      <td>1.002869</td>\n",
       "      <td>3.107924</td>\n",
       "      <td>1.833294</td>\n",
       "    </tr>\n",
       "    <tr>\n",
       "      <th>per</th>\n",
       "      <td>20.994992</td>\n",
       "      <td>19.011677</td>\n",
       "      <td>24.927254</td>\n",
       "      <td>45.304894</td>\n",
       "    </tr>\n",
       "  </tbody>\n",
       "</table>\n",
       "</div>"
      ],
      "text/plain": [
       "            hhb       hbo2         ca         na\n",
       "mae    1.662965   0.760148   2.231926   1.389877\n",
       "mean   7.920770   3.998320   8.953760   3.067830\n",
       "std    3.015091   1.002869   3.107924   1.833294\n",
       "per   20.994992  19.011677  24.927254  45.304894"
      ]
     },
     "execution_count": 67,
     "metadata": {},
     "output_type": "execute_result"
    }
   ],
   "source": [
    "pred_test=pd.DataFrame(columns=['hhb','hbo2','ca','na'])\n",
    "best_estimator\n",
    "\n",
    "train_fin_x = df_x[:9000]\n",
    "train_fin_y = df.loc[:9000-1,'hhb':'na']\n",
    "\n",
    "j=0\n",
    "for i in ['hhb','hbo2','ca','na']:\n",
    "    best_est=best_estimator[j]\n",
    "    best_est.fit(train_fin_x,train_fin_y[i])\n",
    "\n",
    "    pred_test_y=best_est.predict(test_x)\n",
    "    pred_test[i]=pred_test_y\n",
    "    j+=1\n",
    "\n",
    "\n",
    "macro, raw = macro_average_mae(test_y,pred_test)\n",
    "print(\"테스트 세트 성능 \", \"macro average mae\",macro)\n",
    "raw_summary=pd.DataFrame(raw,index=['hhb','hbo2','ca','na']).T\n",
    "raw_summary=raw_summary.append(validation_y.mean(),ignore_index=True)\n",
    "raw_summary=raw_summary.append(validation_y.std(),ignore_index=True)\n",
    "per=raw_summary.iloc[0,:]/raw_summary.iloc[1,:]*100\n",
    "raw_summary3=raw_summary.append(per,ignore_index=True)\n",
    "raw_summary3.index=['mae','mean','std','per']\n",
    "raw_summary3\n"
   ]
  },
  {
   "cell_type": "code",
   "execution_count": 68,
   "metadata": {},
   "outputs": [
    {
     "data": {
      "text/plain": [
       "Text(0.5, 1.0, 'Final Model Evaluation')"
      ]
     },
     "execution_count": 68,
     "metadata": {},
     "output_type": "execute_result"
    },
    {
     "data": {
      "image/png": "[encoded data removed]",
      "text/plain": [
       "<Figure size 1080x720 with 1 Axes>"
      ]
     },
     "metadata": {
      "needs_background": "light"
     },
     "output_type": "display_data"
    }
   ],
   "source": [
    "plt = raw_summary3.plot(kind='bar',figsize=(15,10),colormap='Pastel2')\n",
    "plt.set_title('Final Model Evaluation', fontsize=20)"
   ]
  },
  {
   "cell_type": "code",
   "execution_count": null,
   "metadata": {},
   "outputs": [],
   "source": []
  }
 ],
 "metadata": {
  "colab": {
   "collapsed_sections": [],
   "name": "프로젝트.ipynb",
   "provenance": []
  },
  "kernelspec": {
   "display_name": "Python 3",
   "language": "python",
   "name": "python3"
  },
  "language_info": {
   "codemirror_mode": {
    "name": "ipython",
    "version": 3
   },
   "file_extension": ".py",
   "mimetype": "text/x-python",
   "name": "python",
   "nbconvert_exporter": "python",
   "pygments_lexer": "ipython3",
   "version": "3.7.7"
  }
 },
 "nbformat": 4,
 "nbformat_minor": 1
}
